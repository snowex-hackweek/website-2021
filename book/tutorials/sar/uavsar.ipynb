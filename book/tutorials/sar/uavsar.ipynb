{
 "cells": [
  {
   "cell_type": "markdown",
   "id": "municipal-certification",
   "metadata": {},
   "source": [
    "# UAVSAR\n",
    "\n",
    "```{admonition} Learning Objectives\n",
    "*A 30 minute guide to UAVSAR data for SnowEX*\n",
    "- overview of UAVSAR data (both InSAR and PolSAR products)\n",
    "- demonstrate how to access and transform data\n",
    "- use Python rasterio and matplotlib to display the data\n",
    "```\n",
    "\n",
    "<img src=\"../../img/UAVSAR_plane.jpg\" alt=\"uavsar airplane\" width=\"800px\">\n",
    "\n",
    "Intro slide deck: https://uavsar.jpl.nasa.gov/education/what-is-uavsar.html \n",
    "\n",
    "*Lead developer:  Jack Tarricone, University of Nevada Reno, Other developers: Franz Meyer, University of Alaska Fairbanks and HP Marshall, Boise State University*"
   ]
  },
  {
   "cell_type": "code",
   "execution_count": null,
   "id": "derived-equilibrium",
   "metadata": {},
   "outputs": [],
   "source": [
    "# import libraries\n",
    "import os  # for chdir, getcwd, path.basename, path.exists\n",
    "import hvplot.xarray\n",
    "import pandas as pd # for DatetimeIndex \n",
    "import rioxarray\n",
    "import numpy as np #for log10, mean, percentile, power\n",
    "import rasterio as rio\n",
    "from rasterio.plot import show # plotting raster data\n",
    "from rasterio.plot import show_hist #histograms of raster data\n",
    "\n",
    "import glob # for listing files in tiff conversion function\n",
    "import matplotlib.pyplot as plt # for add_subplot, axis, figure, imshow, legend, plot, set_axis_off, set_data,\n",
    "                                # set_title, set_xlabel, set_ylabel, set_ylim, subplots, title, twinx"
   ]
  },
  {
   "cell_type": "markdown",
   "id": "naked-county",
   "metadata": {},
   "source": [
    "## What is UAVSAR?\n",
    "\n",
    "UAVSAR stands for uninhabited aerial vehicle synthetic aperture radar. It is a suborbital (airplane) remote sensing instrument operated out of NASA JPL.\n",
    "\n",
    "| frequency (cm) | resolution (rng x azi m) | swath width (km) |\n",
    "| - | - | - | \n",
    "| L-band 23| 1.8 x 5.5 | 16 | \n",
    "\n",
    "Documentation:\n",
    "* https://uavsar.jpl.nasa.gov/education/what-is-uavsar.html\n",
    "* https://asf.alaska.edu/data-sets/sar-data-sets/uavsar/\n",
    "* https://ieeexplore-ieee-org.unr.idm.oclc.org/document/1631770 (Rosen et al. 2006)"
   ]
  },
  {
   "cell_type": "markdown",
   "id": "dental-interval",
   "metadata": {},
   "source": [
    "## NASA SnowEx 2020 and 2021 UAVSAR Campaings\n",
    "\n",
    "During the winter of 2020 and 2021, NASA conducted an L-band InSAR timeseris at a seris of sites across the Western US with the goal of tracking changes in SWE. Field teams in 13 different locations in 2020, and in 6 locations in 2021, deployed on the date of the flight to perform calibration and validation observations.\n",
    "\n",
    ":::{figure-md} UAVSAR-map\n",
    "<img src=\"../../img/SnowEx2020.png\" alt=\"uavsar map\" width=\"800px\">\n",
    "\n",
    "Map of the UAVSAR flight locations for NASA SnowEx. Source: Chris Hiemstra\n",
    ":::"
   ]
  },
  {
   "cell_type": "markdown",
   "id": "modified-envelope",
   "metadata": {},
   "source": [
    "## Data Access\n",
    "\n",
    "There are multiple ways to access UAVSAR data. Also the SQL database.\n",
    "\n",
    "* [Alaska Satellite Facility Vertex Portal](https://search.asf.alaska.edu/#/?dataset=UAVSAR)\n",
    "* [NASA Earthdata Suborbital Search](https://search.earthdata.nasa.gov/portal/suborbital/search?fi=UAVSAR&as[instrument][0]=UAVSAR)\n",
    "* [JPL UAVSAR Data Search](https://uavsar.jpl.nasa.gov/cgi-bin/data.pl)"
   ]
  },
  {
   "cell_type": "markdown",
   "id": "modern-stewart",
   "metadata": {},
   "source": [
    "```{admonition} InSAR Data Types\n",
    ":class: InSAR Data Types\n",
    "- ANN file (.ann): a text annotation file with metadata\n",
    "- AMP files (.amp1 and .amp2): calibrated multi-looked amplitude products\n",
    "- INT files (.int): interferogram product, complex number format (we won't be using these here)\n",
    "- COR files (.cor): interferometric correlation product, a measure of the noise level of the phase\n",
    "- GRD files (.grd): interferometric products projected to the ground in simple geographic coordinates (latitude, longitude)\n",
    "- HGT file  (.hgt): the DEM that was used in the InSAR processing\n",
    "- KML and KMZ files (.kml or .kmz): format for viewing files in Google Earth (can't be used for analysis)\n",
    "```"
   ]
  },
  {
   "cell_type": "markdown",
   "id": "protecting-creature",
   "metadata": {},
   "source": [
    "### Data Download\n",
    "\n",
    "We will use our NASA EarthData credentials and ASF Vertex to download an InSAR pair data into our notebook directly. For this tutorial, we will be working with UAVSAR data from February of 2020. If you want to use different data in the future, change the links in the files variable. The screengrab below shows how I generated these download links from the ASF site."
   ]
  },
  {
   "cell_type": "markdown",
   "id": "sustainable-courage",
   "metadata": {},
   "source": [
    ":::{figure-md} vertex\n",
    "<img src=\"../../img/asf_vertex.png\" alt=\"asf vertex\" width=\"800px\">\n",
    "\n",
    "Screenshot of ASF Vertex interface\n",
    ":::"
   ]
  },
  {
   "cell_type": "markdown",
   "id": "monetary-package",
   "metadata": {},
   "source": [
    ":::{note}\n",
    "For efficiency, we've already downloaded and converted UAVSAR to a GIS-friendly Geotiff format for this tutorial. See the additional notebook for code and documentation: [uavsar-download.ipynb](./uavsar-download.ipynb)\n",
    ":::"
   ]
  },
  {
   "cell_type": "code",
   "execution_count": null,
   "id": "occupational-occasions",
   "metadata": {},
   "outputs": [],
   "source": [
    "#%%bash \n",
    "\n",
    "# Datasets used in this tutorial are accessed directly from their online repositories\n",
    "# But we also made a copy on zenodo in case servers are down, etc:\n",
    "\n",
    "#cd /tmp\n",
    "#wget -nc -q https://zenodo.org/record/RECORD_ID/files/snowex-hackweek/tutorial-data.zip -O tutorial-data.zip\n",
    "#wget -nc https://zenodo.org/record/3600624/files/dshean/hma_mb_paper-v1.0.zip -O tutorial-data.zip\n",
    "#unzip -n tutorial-data.zip\n",
    "\n",
    "# temporary equivalent\n",
    "#aws s3 sync --quiet s3://snowex-data/zenodo-data/ /tmp/tutorial-data "
   ]
  },
  {
   "cell_type": "code",
   "execution_count": null,
   "id": "liable-paste",
   "metadata": {},
   "outputs": [],
   "source": [
    "# Change to tmp directory and download staged tutorial data\n",
    "os.chdir('/tmp/tutorial-data/sar/uavsar/')"
   ]
  },
  {
   "cell_type": "code",
   "execution_count": null,
   "id": "reverse-stick",
   "metadata": {},
   "outputs": [],
   "source": [
    "### inspect our newly created .tiffs, and create named objects for each data type. We'll use these new obects in the next step\n",
    "\n",
    "# amplitude from the first acquisition\n",
    "for amp1 in glob.glob(\"*amp1.grd.tiff\"):\n",
    "    print(amp1)\n",
    "    \n",
    "# amplitude from the second acquisition\n",
    "for amp2 in glob.glob(\"*amp2.grd.tiff\"):\n",
    "    print(amp2)\n",
    "\n",
    "# coherence\n",
    "for cor in glob.glob(\"*cor.grd.tiff\"):\n",
    "    print(cor)\n",
    "\n",
    "# unwrapped phase\n",
    "for unw in glob.glob(\"*unw.grd.tiff\"):\n",
    "    print(unw)\n",
    "\n",
    "# dem used in processing\n",
    "for dem in glob.glob(\"*hgt.grd.tiff\"):\n",
    "    print(dem)"
   ]
  },
  {
   "cell_type": "markdown",
   "id": "generic-afghanistan",
   "metadata": {},
   "source": [
    "Inspect the meta data the rasters using the rio (shorthand for rasterio) ```profile``` function."
   ]
  },
  {
   "cell_type": "code",
   "execution_count": null,
   "id": "ecological-argentina",
   "metadata": {},
   "outputs": [],
   "source": [
    "unw_rast = rio.open(unw)\n",
    "meta_data = unw_rast.profile\n",
    "print(meta_data)"
   ]
  },
  {
   "cell_type": "markdown",
   "id": "lonely-albany",
   "metadata": {},
   "source": [
    "## Opening and plotting the raw UAVSAR raster files\n",
    "We now have our five different data sets: the two amplitude files, coherence, unwrapped phased, and the DEM. We will not be working the actual interferogram (.int) file because it contains complex numbers that don't work in the Python packages being used.\n",
    "\n",
    "Here we will open a raster files using the ```rio.open()``` function. We'll then create a simple plot using the ```rio``` ```show()``` function."
   ]
  },
  {
   "cell_type": "markdown",
   "id": "bronze-locking",
   "metadata": {},
   "source": [
    "### Amp 1"
   ]
  },
  {
   "cell_type": "code",
   "execution_count": null,
   "id": "foreign-individual",
   "metadata": {},
   "outputs": [],
   "source": [
    "amp1_rast = rio.open(amp1) #open raster\n",
    "fig, ax = plt.subplots(figsize = (10,7)) #define figure size\n",
    "ax.set_title(\"Amplitude 1\",fontsize = 16); #set title and font size\n",
    "show((amp1_rast, 1), cmap = 'Blues', vmin = 0, vmax = 1); #plot, set color type and range"
   ]
  },
  {
   "cell_type": "markdown",
   "id": "compatible-caribbean",
   "metadata": {},
   "source": [
    "### Amp 2"
   ]
  },
  {
   "cell_type": "code",
   "execution_count": null,
   "id": "negative-ozone",
   "metadata": {},
   "outputs": [],
   "source": [
    "amp2_rast = rio.open(amp2)\n",
    "fig, ax = plt.subplots(figsize = (10,7))\n",
    "ax.set_title(\"Amplitude 2\",fontsize = 16);\n",
    "show((amp2_rast, 1), cmap = 'Reds', vmin = 0, vmax = 1);"
   ]
  },
  {
   "cell_type": "markdown",
   "id": "incident-implement",
   "metadata": {},
   "source": [
    "### Coherence"
   ]
  },
  {
   "cell_type": "code",
   "execution_count": null,
   "id": "postal-positive",
   "metadata": {},
   "outputs": [],
   "source": [
    "cor_rast = rio.open(cor)\n",
    "fig, ax = plt.subplots(figsize = (10,7))\n",
    "ax.set_title(\"Coherence\",fontsize = 16);\n",
    "show((cor_rast, 1), cmap = 'inferno', vmin = 0, vmax = 1);"
   ]
  },
  {
   "cell_type": "markdown",
   "id": "hourly-promise",
   "metadata": {},
   "source": [
    "### DEM\n",
    "Now we'll make a quick histogram using ```rio``` ```show_hist()``` to check what we should set the bounds of the color scale to."
   ]
  },
  {
   "cell_type": "code",
   "execution_count": null,
   "id": "iraqi-intervention",
   "metadata": {},
   "outputs": [],
   "source": [
    "dem_rast = rio.open(dem)\n",
    "show_hist(dem_rast, bins = 50)"
   ]
  },
  {
   "cell_type": "code",
   "execution_count": null,
   "id": "activated-humor",
   "metadata": {},
   "outputs": [],
   "source": [
    "fig, ax = plt.subplots(figsize = (10,7))\n",
    "ax.set_title(\"DEM\",fontsize = 16);\n",
    "show((dem_rast, 1), cmap = 'gist_earth', vmin = 1900, vmax = 3600); #estimated these values from the histogram"
   ]
  },
  {
   "cell_type": "markdown",
   "id": "excited-defense",
   "metadata": {},
   "source": [
    "### Unwrapped Phase\n",
    "Another histogram for the color bounds, and note the large amount of 0's values. This is will become imporant in the next few steps."
   ]
  },
  {
   "cell_type": "code",
   "execution_count": null,
   "id": "artificial-cannon",
   "metadata": {},
   "outputs": [],
   "source": [
    "unw_rast = rio.open(unw)\n",
    "show_hist(unw_rast, bins = 50)"
   ]
  },
  {
   "cell_type": "code",
   "execution_count": null,
   "id": "golden-survivor",
   "metadata": {},
   "outputs": [],
   "source": [
    "unw_rast = rio.open(unw)\n",
    "fig, ax = plt.subplots(figsize = (10,7))\n",
    "ax.set_title(\"Unwrapped Phase\",fontsize = 16);\n",
    "show((unw_rast, 1), cmap = 'viridis', vmin = -3, vmax = 1.5); # info from histogram"
   ]
  },
  {
   "cell_type": "markdown",
   "id": "special-newport",
   "metadata": {},
   "source": [
    "## Formatting the data for visualization\n",
    "The plots of the raw data need some work. Some fotmatting is necessary to visualize the data clearly. UAVSAR uses \"0\" as it's no data value (not the best practice in general) for amplitude, coherence, and unwrapped phase. For the DEM -10000 is the no data value. Using -9999 or another value that is obviously not actual data is a better practice with spatial data to limit confusion. We'll convert these no data values to NaN (Not a Number) which will remove the boarders around data, and in data lost the unwrapping in the UNW file."
   ]
  },
  {
   "cell_type": "markdown",
   "id": "overall-communist",
   "metadata": {},
   "source": [
    "### Amplitude formatting\n",
    "For the two amplitude files we need to do two things. Convert from the linear amplitude scale to decibel (dB) and change the 0 values to NaN. To do this we'll convert our raster file to an ```np.array``` to manipulate it. Note that when we convert the raster data to an array, the spatial coordinates are lost and it no longer plots the x and y scales at longitude and latitude values. For our purposes this okay, but you would need to convert back to a .tiff if you wanted to save the file to use in ArcGIS or QGIS."
   ]
  },
  {
   "cell_type": "code",
   "execution_count": null,
   "id": "fancy-cemetery",
   "metadata": {},
   "outputs": [],
   "source": [
    "# amp1 \n",
    "# open raster as a data array\n",
    "with rio.open(amp1) as amp1_raw:\n",
    "    amp1_array = amp1_raw.read(1) #open raster as an array\n",
    "\n",
    "# convert all 0's to nan\n",
    "amp1_array[amp1_array == 0] = np.nan # convert all 0's to NaN's\n",
    "\n",
    "# convert to dB\n",
    "amp1_dB = 10.0 * np.log10(amp1_array) # convert to the dB scale\n",
    "\n",
    "# amp2 \n",
    "with rio.open(amp2) as amp2_raw:\n",
    "    amp2_array = amp2_raw.read(1)\n",
    "    \n",
    "amp2_array[amp2_array == 0] = np.nan\n",
    "\n",
    "amp2_dB = 10.0 * np.log10(amp2_array)"
   ]
  },
  {
   "cell_type": "code",
   "execution_count": null,
   "id": "colored-bulletin",
   "metadata": {},
   "outputs": [],
   "source": [
    "show_hist(amp2_dB, bins = 100)"
   ]
  },
  {
   "cell_type": "markdown",
   "id": "fixed-response",
   "metadata": {},
   "source": [
    "Instead of using the ```rio.show()``` function, we'll try out the ```matplotlib``` (we are calling ```plt```) ```im.show()``` style of plotting to implement a color scale."
   ]
  },
  {
   "cell_type": "code",
   "execution_count": null,
   "id": "trained-despite",
   "metadata": {},
   "outputs": [],
   "source": [
    "fig, ax = plt.subplots(figsize=(15, 10))\n",
    "\n",
    "ax.set_title(\"Amplitude 1 #data info here\", fontsize= 20) #title and font size\n",
    "amp2_plot = ax.imshow(amp2_dB, cmap='inferno',vmin=-16, vmax=0) #set bounds and color map\n",
    "\n",
    "# add legend\n",
    "colorbar = fig.colorbar(amp2_plot, ax=ax) #add color bar\n",
    "plt.show()"
   ]
  },
  {
   "cell_type": "markdown",
   "id": "official-china",
   "metadata": {},
   "source": [
    "Now we'll create a function called ```show_two_images()``` to plot two images at once. The function inputs are a data array, color map name, and a plot title for both images. It uses ```np.nanpercentile()``` to automatically set the color scale bounds, but you can also set them manually."
   ]
  },
  {
   "cell_type": "code",
   "execution_count": null,
   "id": "supported-absolute",
   "metadata": {},
   "outputs": [],
   "source": [
    "# function for showing two images using matplotlib\n",
    "plt.rcParams.update({'font.size': 12}) # set fontsize\n",
    "def show_two_images(img1, img2, col1, col2, title1, title2, vmin1=None, vmax1=None, vmin2=None, vmax2=None):\n",
    "\n",
    "    fig = plt.figure(figsize=(20, 20))\n",
    "    ax1 = fig.add_subplot(121)\n",
    "    ax2 = fig.add_subplot(122)\n",
    "    \n",
    "    # auto setting axis limits\n",
    "    if vmin1 == None:\n",
    "        vmin1 = np.nanpercentile(img1, 1)\n",
    "    if vmax1 == None:\n",
    "        vmax1 = np.nanpercentile(img1, 99)\n",
    "    \n",
    "    # plot image\n",
    "    masked_array1 = np.ma.array(img1, mask=np.isnan(0)) #mask for 0\n",
    "    plt1 = ax1.imshow(masked_array1, cmap=col1, vmin=vmin1, vmax=vmax1, interpolation = 'nearest') #fixes NaN problem\n",
    "    ax1.set_title(title1)\n",
    "    ax1.xaxis.set_label_text('Linear stretch Min={} Max={}'.format(vmin1, vmax1))\n",
    "        \n",
    "    # add color scale\n",
    "    colorbar = fig.colorbar(plt1, ax=ax1, fraction=0.03, pad=0.04)\n",
    "    \n",
    "     # auto setting axis limits\n",
    "    if vmin2 == None:\n",
    "        vmin2 = np.nanpercentile(img2, 1)\n",
    "    if vmax2 == None:\n",
    "        vmax2 = np.nanpercentile(img2, 99)\n",
    "    \n",
    "    # plot image\n",
    "    masked_array2 = np.ma.array(img2, mask=np.isnan(0)) #mask for 0\n",
    "    plt2 = ax2.imshow(masked_array2, cmap=col2, vmin=vmin2, vmax=vmax2, interpolation = 'nearest')\n",
    "    ax2.set_title(title2)\n",
    "    ax2.xaxis.set_label_text('Linear stretch Min={} Max={}'.format(vmin2, vmax2))\n",
    "    colorbar = fig.colorbar(plt2, ax=ax2, fraction=0.03, pad=0.04)\n",
    "    plt.show()\n"
   ]
  },
  {
   "cell_type": "code",
   "execution_count": null,
   "id": "subsequent-nitrogen",
   "metadata": {},
   "outputs": [],
   "source": [
    "# plot both amplitude images\n",
    "\n",
    "show_two_images(amp1_dB, amp2_dB, 'gray', 'gray', 'Amp1_dB', 'Amp2_dB', -12,-1,-12,-1)"
   ]
  },
  {
   "cell_type": "markdown",
   "id": "mathematical-cream",
   "metadata": {},
   "source": [
    "### Coherence, Unwrapped Phase, DEM\n",
    "For these three data types, we only need to convert no data values (0) to NaN."
   ]
  },
  {
   "cell_type": "code",
   "execution_count": null,
   "id": "organizational-cradle",
   "metadata": {},
   "outputs": [],
   "source": [
    "with rio.open(cor) as cor_raw:\n",
    "    cor_array = cor_raw.read(1)\n",
    "\n",
    "cor_array[cor_array == 0] = np.nan # convert all 0's to nan\n",
    "\n",
    "# unw\n",
    "with rio.open(unw) as unw_raw:\n",
    "    unw_array = unw_raw.read(1)\n",
    "    \n",
    "unw_array[unw_array == 0] = np.nan\n",
    "\n",
    "# dem\n",
    "with rio.open(dem) as dem_raw:\n",
    "    dem_array = dem_raw.read(1)\n",
    "    \n",
    "dem_array[dem_array == -10000] = np.nan #different no data value"
   ]
  },
  {
   "cell_type": "markdown",
   "id": "alert-turkey",
   "metadata": {},
   "source": [
    "Checking to see if it worked by comparing ```unw_rast``` which still includes 0's to ```unw_array``` where we changed them to NaN."
   ]
  },
  {
   "cell_type": "code",
   "execution_count": null,
   "id": "focused-brighton",
   "metadata": {},
   "outputs": [],
   "source": [
    "show_hist(unw_rast, bins = 100) \n",
    "show_hist(unw_array, bins = 100)"
   ]
  },
  {
   "cell_type": "code",
   "execution_count": null,
   "id": "allied-location",
   "metadata": {},
   "outputs": [],
   "source": [
    "plt.rcParams.update({'font.size': 12}) # set fontsize\n",
    "show_two_images(dem_array, unw_array, 'gist_earth', 'viridis', 'DEM (m)', 'UNW (radians)')"
   ]
  },
  {
   "cell_type": "markdown",
   "id": "multiple-controversy",
   "metadata": {},
   "source": [
    "Let's plot the UNW raster larger so we can get a better look at the detail."
   ]
  },
  {
   "cell_type": "code",
   "execution_count": null,
   "id": "rising-headset",
   "metadata": {},
   "outputs": [],
   "source": [
    "plt.rcParams.update({'font.size': 16}) # increase plot font size for larger plot\n",
    "fig, ax = plt.subplots(figsize=(40, 20))\n",
    "\n",
    "masked_array = np.ma.array(unw_array, mask = np.isnan(0)) # mask for 0\n",
    "ax.set_title(\"UNW (radians)\", fontsize= 20) #title and font size\n",
    "img = ax.imshow(masked_array, cmap = 'viridis', interpolation = 'nearest', vmin = -2.5, vmax =1.5)\n",
    "\n",
    "# add legend\n",
    "colorbar = fig.colorbar(img, ax=ax, fraction=0.03, pad=0.04) # add color bar\n",
    "plt.show()\n",
    "plt.rcParams.update({'font.size': 12}) # change font back to normal"
   ]
  },
  {
   "cell_type": "markdown",
   "id": "shared-alpha",
   "metadata": {},
   "source": [
    " This looks **much** better! Plotting the image at a larger scale allows us to see an accurate representation of the data."
   ]
  },
  {
   "cell_type": "markdown",
   "id": "frank-earth",
   "metadata": {},
   "source": [
    "## LiDAR depth change vs InSAR Phase change Comparison\n",
    "The SnowEx 2020 campaign conducted a pair of LiDAR and InSAR flights over Grand Mesa on February 1st and 13th. The purpose of the paired data collected was to test the UAVSAR L-band InSAR SWE/Depth change technique against the LiDAR depth change retrievals. LiDAR is proven to work exceptionally well for measuring snow depth changes, so this provides an opportunity to validate the InSAR data."
   ]
  },
  {
   "cell_type": "code",
   "execution_count": null,
   "id": "humanitarian-prompt",
   "metadata": {},
   "outputs": [],
   "source": [
    "lidar_dc = '/tmp/tutorial-data/sar/uavsar/gmesa_depth_change_02-01_02-13.tif' #path to lidar depth change raster\n",
    "\n",
    "# print meta data, and check to see if the raster has a no data value\n",
    "lidar_rast = rio.open(lidar_dc)\n",
    "meta_data = lidar_rast.profile\n",
    "print(meta_data)"
   ]
  },
  {
   "cell_type": "markdown",
   "id": "fifty-visibility",
   "metadata": {},
   "source": [
    "We can see this raster has a no data value of ```'nodata': -3.4e+38``` set (most of the UAVSAR ones did not). Therefore we can read it in with the ```masked=TRUE``` command to automatically mask out the no data pixels."
   ]
  },
  {
   "cell_type": "code",
   "execution_count": null,
   "id": "modern-fraud",
   "metadata": {},
   "outputs": [],
   "source": [
    "with rio.open(lidar_dc) as dataset:\n",
    "    lidar_masked = dataset.read(1, masked=True)"
   ]
  },
  {
   "cell_type": "code",
   "execution_count": null,
   "id": "developing-brief",
   "metadata": {},
   "outputs": [],
   "source": [
    "# quick test plot\n",
    "fig, ax = plt.subplots(figsize = (30,8))\n",
    "ax.set_title(\"LiDAR Depth Change\",fontsize = 16);\n",
    "show((lidar_masked), cmap = 'RdBu', vmin = -.3, vmax = .3)"
   ]
  },
  {
   "cell_type": "markdown",
   "id": "continuous-atlanta",
   "metadata": {},
   "source": [
    "## LiDAR vs UNW\n",
    "Using ```show_two_images()```, we can plot the LiDAR depth change and UNW images next to each other to compare them."
   ]
  },
  {
   "cell_type": "code",
   "execution_count": null,
   "id": "varied-result",
   "metadata": {},
   "outputs": [],
   "source": [
    "show_two_images(lidar_masked, unw_array, 'RdBu', 'RdBu', 'LiDAR Depth Change (cm)', 'UNW (radians)', vmin1 = -.3, vmax1 = .3, vmin2=-4, vmax2=6)"
   ]
  },
  {
   "cell_type": "markdown",
   "id": "peaceful-judgment",
   "metadata": {},
   "source": [
    "The two rasters cover different areas, are different resolutions, and have different missing pixels. Let's zoom into the top left corner of Grand Mesa where there was significant wind drifting to compare the two data sets."
   ]
  },
  {
   "cell_type": "code",
   "execution_count": null,
   "id": "electrical-thought",
   "metadata": {},
   "outputs": [],
   "source": [
    "show_two_images(lidar_masked[700:1700,700:1700], unw_array[2150:2750,1300:1900], \n",
    "                'RdBu', 'RdBu', 'LiDAR Depth Change (cm)', 'UNW (radians)', vmin1 = -.3, vmax1 = .3, vmin2=-4, vmax2=6)"
   ]
  },
  {
   "cell_type": "markdown",
   "id": "acquired-charter",
   "metadata": {},
   "source": [
    "As you can see in the two plots above, there is a very strong spatial relationship between LiDAR depth change and InSAR change in phase. This relationship is the basis of measuring changes in SWE using L-band InSAR. While we don't get into the next step of converting phase change to SWE or depth change from InSAR, we will get into that in the UAVSAR project!"
   ]
  }
 ],
 "metadata": {
  "kernelspec": {
   "display_name": "Python 3",
   "language": "python",
   "name": "python3"
  },
  "language_info": {
   "codemirror_mode": {
    "name": "ipython",
    "version": 3
   },
   "file_extension": ".py",
   "mimetype": "text/x-python",
   "name": "python",
   "nbconvert_exporter": "python",
   "pygments_lexer": "ipython3",
   "version": "3.8.8"
  }
 },
 "nbformat": 4,
 "nbformat_minor": 5
}
