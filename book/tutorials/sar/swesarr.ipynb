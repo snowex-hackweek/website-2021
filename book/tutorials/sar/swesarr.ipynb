{
 "cells": [
  {
   "cell_type": "markdown",
   "id": "geological-omega",
   "metadata": {},
   "source": [
    "![NASA](http://www.nasa.gov/sites/all/themes/custom/nasatwo/images/nasa-logo.svg)\n",
    "\n",
    "<div>\n",
    "<img src=\"https://blogs.nasa.gov/swesarr/wp-content/uploads/sites/305/2021/06/swesarr.png\" width=\"1589\"/>\n",
    "</div>\n",
    "\n",
    "\n",
    "<center>\n",
    "<h1><font size=\"+3\">SWESARR Tutorial</font></h1>\n",
    "</center>\n",
    "\n",
    "---\n",
    "\n",
    "<CENTER>\n",
    "<H1 style=\"color:red\">\n",
    "Introduction\n",
    "</H1>\n",
    "</CENTER>"
   ]
  },
  {
   "cell_type": "markdown",
   "id": "another-charter",
   "metadata": {},
   "source": [
    "<div class=\"alert alert-block alert-info\">\n",
    "<b>Objectives:</b> \n",
    "    This is a 30-minute tutorial where we will ...\n",
    "     <ol>\n",
    "         <li> Introduce SWESARR </li>\n",
    "         <li> Briefly introduce active and passive microwave remote sensing </li>\n",
    "         <li> Learn how to access, filter, and visualize SWESARR data </li>\n",
    "    </ol> \n",
    "</div>"
   ]
  },
  {
   "cell_type": "markdown",
   "id": "simplified-dealer",
   "metadata": {},
   "source": [
    "# SWESARR Tutorial"
   ]
  },
  {
   "cell_type": "markdown",
   "id": "extended-driver",
   "metadata": {},
   "source": [
    "## Quick References\n",
    "\n",
    "<OL>\n",
    "<LI> <A HREF=\"https://glihtdata.gsfc.nasa.gov/files/radar/SWESARR/prerelease/\">SWESARR SAR Data Pre-release FTP Server</A>    \n",
    "<LI> <A HREF=\"https://nsidc.org/data/SNEX20_SWESARR_TB/versions/1\"> SWESARR Radiometer Data, SnowEx20, v1</A>\n",
    "<LI> <A HREF=\"https://blogs.nasa.gov/swesarr/\">SWESARR Blogspot</A>\n",
    "</OL>"
   ]
  },
  {
   "cell_type": "markdown",
   "id": "worthy-dimension",
   "metadata": {},
   "source": [
    "## What is SWESARR?"
   ]
  },
  {
   "cell_type": "code",
   "execution_count": null,
   "id": "5cb68a4f-3e5b-4d29-882f-b02cdc524392",
   "metadata": {},
   "outputs": [],
   "source": [
    "from IPython.display import Audio,Image, YouTubeVideo;    id='5hVQusosGSg';    YouTubeVideo(id=id,width=600,height=300,start=210,end=238)\n",
    "# courtesy of this github post\n",
    "# https://gist.github.com/christopherlovell/e3e70880c0b0ad666e7b5fe311320a62"
   ]
  },
  {
   "cell_type": "markdown",
   "id": "1f3c8b13-5a7c-493f-b10c-1fc0453d654e",
   "metadata": {},
   "source": [
    "<UL>\n",
    "<LI> Airborne sensor system measuring active and passive microwave measurements\n",
    "<LI> Colocated measurements are taken simultaneously using an ultra-wideband antenna\n",
    "</UL>\n",
    "<P>\n",
    "\n",
    "SWESARR gives us insights on the different ways active and passive signals are influenced by snow over large areas."
   ]
  },
  {
   "cell_type": "markdown",
   "id": "purple-holder",
   "metadata": {},
   "source": [
    "## Active and Passive? Microwave Remote Sensing?"
   ]
  },
  {
   "cell_type": "markdown",
   "id": "opening-submission",
   "metadata": {},
   "source": [
    "\n",
    "### Passive Systems\n",
    "\n",
    "* All materials can naturally emit electromagnetic waves\n",
    "* What is the cause?\n",
    "\n",
    "<div>\n",
    "<img src=\"https://blogs.nasa.gov/swesarr/wp-content/uploads/sites/305/2021/07/particles.png\" width=\"360\"/>\n",
    "</div>\n",
    "<br><br>\n",
    "\n",
    "* Material above zero Kelvin will display some vibration or movement of particles\n",
    "* These moving, charged particles will induce electromagnetic waves\n",
    "* If we're careful, we can measure these waves with a radio wave measuring tool, or \"radiometer\"\n",
    "<br>\n",
    "\n",
    "<div>\n",
    "<img src=\"https://blogs.nasa.gov/swesarr/wp-content/uploads/sites/305/2021/07/radiometer.png\" width=\"500\"/>\n",
    "</div>\n",
    "\n",
    "\n",
    "* Radiometers see emissions from many sources, but they're usually very weak\n",
    "* It's important to design a radiometer that (1) minimizes side lobes and (2) allows for averaging over the main beam\n",
    "* For this reason, radiometers often have low spatial resolution\n",
    "\n",
    "| ✏️            | Radiometers allow us to study earth materials through incoherent averaging of naturally emitted signals   |\n",
    "|---------------|:----------------------------------------------------------------------------------------------------------|\n",
    "\n",
    "<br><br><br>\n",
    "\n",
    "### Active Systems\n",
    "* While radiometers generally measure natural electromagnetic waves, radars measure man-made electromagnetic waves\n",
    "* Transmit your own wave, and listen for the returns\n",
    "* The return of this signal is dependent on the surface and volume characteristics of the material it contacts\n",
    "\n",
    "<div>\n",
    "<img src=\"https://blogs.nasa.gov/swesarr/wp-content/uploads/sites/305/2021/07/radar.png\" width=\"500\"/>\n",
    "</div>\n",
    "\n",
    "| ✏️            | Synthetic aperture radar allows for high spatial resolution through processing of coherent signals       |\n",
    "|---------------|:----------------------------------------------------------------------------------------------------------|\n"
   ]
  },
  {
   "cell_type": "code",
   "execution_count": null,
   "id": "homeless-field",
   "metadata": {},
   "outputs": [],
   "source": [
    "%%HTML\n",
    "<style>\n",
    "td { font-size: 15px }\n",
    "th { font-size: 15px }\n",
    "</style>"
   ]
  },
  {
   "cell_type": "markdown",
   "id": "pharmaceutical-termination",
   "metadata": {},
   "source": [
    "## SWESARR Sensors\n",
    "<center>\n",
    "<h1><font size=\"+1\">SWESARR Frequencies, Polarization, and Bandwidth Specification  </font></h1>\n",
    "</center>\n",
    "\n",
    "| Center-Frequency (GHz) | Band       |  Sensor      | Bandwidth (MHz) | Polarization |\n",
    "| ---------------------- | ---------- | ------------ | --------------- | ------------ |\n",
    "| 9.65                   |  X         |  SAR         | 200             | VH and VV    |\n",
    "| 13.6                   | Ku         |  SAR         | 200             | VH and VV    |\n",
    "| 17.25                  | Ku         |  SAR         | 200             | VH and VV    |\n",
    "| 10.65                  |  X         |  Radiometer  | 200             | H            |\n",
    "| 18.7                   |  K         |  Radiometer  | 200             | H            |\n",
    "| 36.5                   | Ka         |  Radiometer  | 1,000           | H            |\n",
    "\n",
    "## SWESARR Instrument\n",
    "\n",
    "<br>\n",
    "<center>\n",
    "<img src=\"https://blogs.nasa.gov/swesarr/wp-content/uploads/sites/305/wppa/1.jpg\", width=\"400\", title=\"Plane\" /> <br>\n",
    "    <img src=\"https://blogs.nasa.gov/swesarr/wp-content/uploads/sites/305/wppa/4.jpg\", width=\"400\", title=\"Instrument\" />\n",
    "</center>\n"
   ]
  },
  {
   "cell_type": "markdown",
   "id": "thirty-weekend",
   "metadata": {},
   "source": [
    "## SWESARR Spatiotemporal Coverage\n",
    "\n",
    "\n",
    "* Currently, there are two primary dataset coverages\n",
    "    * **2019**:   04 November through 06 November\n",
    "    * **2020**:   10 February through 12 February\n",
    "* Below: radiometer coverage for all passes made between February 10 to February 12, 2020\n",
    "* SWESARR flights cover many snowpit locations over the Grand Mesa area as shown by the dots in blue"
   ]
  },
  {
   "cell_type": "markdown",
   "id": "equipped-fifteen",
   "metadata": {},
   "source": [
    "<div>\n",
    "<img src=\"https://blogs.nasa.gov/swesarr/wp-content/uploads/sites/305/2021/06/passes.png\", width=\"500\", title=\"SWESARR passes over Grand Mesa in 2020\" />\n",
    "</div>"
   ]
  },
  {
   "cell_type": "markdown",
   "id": "administrative-norway",
   "metadata": {},
   "source": [
    "## Reading SWESARR Data\n",
    "\n",
    "- SWESARR's SAR data is organized with a common file naming convention for finding the time, location, and type of data\n",
    "- [Lets look at the prerelease data on its homepage](https://glihtdata.gsfc.nasa.gov/files/radar/SWESARR/prerelease/)\n",
    "<div>\n",
    "<img src=\"https://blogs.nasa.gov/swesarr/wp-content/uploads/sites/305/2020/09/SWESARR-Naming-Convention_recolor_v2.png\" width=\"1000\"/>\n",
    "</div>\n",
    "\n",
    "***\n",
    "<br><br>"
   ]
  },
  {
   "cell_type": "markdown",
   "id": "adjacent-economy",
   "metadata": {},
   "source": [
    "<CENTER>\n",
    "<H1 style=\"color:red\">\n",
    "Accessing Data: SAR\n",
    "</H1>\n",
    "</CENTER>\n",
    "\n",
    "### SAR Data Example"
   ]
  },
  {
   "cell_type": "code",
   "execution_count": null,
   "id": "macro-selection",
   "metadata": {},
   "outputs": [],
   "source": [
    "# Import several libraries. \n",
    "# comments to the right could be useful for local installation on Windows.\n",
    "\n",
    "from shapely import speedups      # https://www.lfd.uci.edu/~gohlke/pythonlibs/\n",
    "speedups.disable()                # <-- handle a potential error in cartopy\n",
    "\n",
    "# downloader library\n",
    "import requests                   # !conda install -c anaconda requests \n",
    "\n",
    "# raster manipulation libraries\n",
    "import rasterio                   # https://www.lfd.uci.edu/~gohlke/pythonlibs/\n",
    "from osgeo import gdal            # https://www.lfd.uci.edu/~gohlke/pythonlibs/\n",
    "import cartopy.crs as ccrs        # https://www.lfd.uci.edu/~gohlke/pythonlibs/\n",
    "import rioxarray as rxr           # !conda install -c conda-forge rioxarray\n",
    "import xarray as xr               # !conda install -c conda-forge xarray dask netCDF4 bottleneck\n",
    "\n",
    "# plotting tools\n",
    "from matplotlib import pyplot     # !conda install matplotlib\n",
    "import datashader as ds           # https://www.lfd.uci.edu/~gohlke/pythonlibs/\n",
    "import hvplot.xarray              # !conda install hvplot\n",
    "\n",
    "# append the subfolders of the current working directory to pythons path\n",
    "\n",
    "import os\n",
    "import sys\n",
    "\n",
    "swesarr_subdirs = [\"data\", \"util\"]\n",
    "tmp = [sys.path.append(os.getcwd() + \"/swesarr/\" + sd) for sd in swesarr_subdirs]\n",
    "del tmp # suppress Jupyter notebook output, delete variable\n",
    "\n",
    "from helper import gdal_corners, join_files, join_sar_radiom"
   ]
  },
  {
   "cell_type": "markdown",
   "id": "consolidated-source",
   "metadata": {},
   "source": [
    "#### Select your data"
   ]
  },
  {
   "cell_type": "code",
   "execution_count": null,
   "id": "fallen-square",
   "metadata": {},
   "outputs": [],
   "source": [
    "# select files to download\n",
    "\n",
    "# SWESARR data website\n",
    "source_repo = 'https://glihtdata.gsfc.nasa.gov/files/radar/SWESARR/prerelease/'\n",
    "\n",
    "# Example flight line\n",
    "flight_line = 'GRMCT2_31801_20007_016_200211_225_XX_01/'\n",
    "\n",
    "# SAR files within this folder\n",
    "data_files = [\n",
    "    'GRMCT2_31801_20007_016_200211_09225VV_XX_01.tif',\n",
    "    'GRMCT2_31801_20007_016_200211_09225VH_XX_01.tif',\n",
    "    'GRMCT2_31801_20007_016_200211_13225VV_XX_01.tif',\n",
    "    'GRMCT2_31801_20007_016_200211_13225VH_XX_01.tif',\n",
    "    'GRMCT2_31801_20007_016_200211_17225VV_XX_01.tif',\n",
    "    'GRMCT2_31801_20007_016_200211_17225VH_XX_01.tif'\n",
    "]\n",
    "\n",
    "# store the location of the SAR tiles as they're located on the SWESARR data server\n",
    "remote_tiles = [source_repo + flight_line + d for d in data_files]\n",
    "\n",
    "# create local output data directory\n",
    "output_dir = '/tmp/swesarr/data/'\n",
    "try:\n",
    "    os.makedirs(output_dir)\n",
    "except FileExistsError:\n",
    "    print('output directory prepared!')\n",
    "\n",
    "# store individual TIF files locally on our computer / server\n",
    "output_paths = [output_dir + d for d in data_files]"
   ]
  },
  {
   "cell_type": "markdown",
   "id": "detected-black",
   "metadata": {},
   "source": [
    "#### Download SAR data and place into data folder"
   ]
  },
  {
   "cell_type": "code",
   "execution_count": null,
   "id": "chief-eligibility",
   "metadata": {},
   "outputs": [],
   "source": [
    "##    for each file selected, store the data locally \n",
    "##\n",
    "##    only run this block if you want to store data on the current \n",
    "##    server/hard drive this notebook is located.\n",
    "##\n",
    "################################################################\n",
    "\n",
    "for remote_tile, output_path in zip(remote_tiles, output_paths):\n",
    "    \n",
    "    # download data\n",
    "    r = requests.get(remote_tile)\n",
    "\n",
    "    # Store data (~= 65 MB/file)\n",
    "    if r.status_code == 200:\n",
    "        with open(output_path, 'wb') as f:\n",
    "            f.write(r.content)"
   ]
  },
  {
   "cell_type": "markdown",
   "id": "representative-runner",
   "metadata": {},
   "source": [
    "#### Merge SAR datasets into single xarray file"
   ]
  },
  {
   "cell_type": "code",
   "execution_count": null,
   "id": "dietary-oxford",
   "metadata": {},
   "outputs": [],
   "source": [
    "da = join_files(output_paths)\n",
    "da"
   ]
  },
  {
   "cell_type": "markdown",
   "id": "interior-plate",
   "metadata": {},
   "source": [
    "#### Plot data with hvplot"
   ]
  },
  {
   "cell_type": "code",
   "execution_count": null,
   "id": "premium-collar",
   "metadata": {},
   "outputs": [],
   "source": [
    "# Set clim directly:\n",
    "clim=(-20,20)\n",
    "cmap='gray'\n",
    "crs = ccrs.UTM(zone='12n')\n",
    "tiles='EsriImagery'\n",
    "\n",
    "da.hvplot.image(x='x',y='y',groupby='band',cmap=cmap,clim=clim,rasterize=True,\n",
    "                       xlabel='Longitude',ylabel='Latitude',\n",
    "                       frame_height=500, frame_width=500,\n",
    "                       xformatter='%.1f',yformatter='%.1f', crs=crs, tiles=tiles, alpha=0.8)"
   ]
  },
  {
   "cell_type": "markdown",
   "id": "studied-isaac",
   "metadata": {},
   "source": [
    "| 🎉 | Congratulations! You now know how to download and display a SWESARR SAR dataset !      | 🎉 |\n",
    "| :---        | :---        | :---        |\n",
    "<br>"
   ]
  },
  {
   "cell_type": "markdown",
   "id": "drawn-framing",
   "metadata": {},
   "source": [
    "### Radiometer Data Example"
   ]
  },
  {
   "cell_type": "markdown",
   "id": "interim-fluid",
   "metadata": {},
   "source": [
    "* SWESARR's radiometer data is publicly available at NSIDC\n",
    "* [Radiometer Data v1 Available Here](https://nsidc.org/data/SNEX20_SWESARR_TB/versions/1)\n",
    "\n"
   ]
  },
  {
   "cell_type": "code",
   "execution_count": null,
   "id": "progressive-hampton",
   "metadata": {},
   "outputs": [],
   "source": [
    "import pandas as pd      # !conda install pandas\n",
    "import numpy as np       # !conda install numpy\n",
    "import xarray as xr      # !conda install -c anaconda xarray \n",
    "\n",
    "import hvplot            # !conda install hvplot\n",
    "import hvplot.pandas\n",
    "import holoviews as hv   # !conda install -c conda-forge holoviews \n",
    "from holoviews.operation.datashader import datashade\n",
    "from geopy.distance import distance     #!conda install -c conda-forge geopy "
   ]
  },
  {
   "cell_type": "markdown",
   "id": "arctic-translation",
   "metadata": {},
   "source": [
    "#### Downloading SWESARR Radiometer Data with `wget`\n",
    "\n",
    "* If you are running this on the SnowEx Hackweek server, `wget` should be configured.\n",
    "* If you are using this tutorial on your local machine, you'll need `wget`.\n",
    "    * Linux Users\n",
    "        - You should be fine. This is likely baked into your operating systems. Congratulations! You chose correctly.\n",
    "    * Apple Users\n",
    "        - The author of this textbox has never used a Mac. There are many command-line suggestions online. `sudo brew install wget`, `sudo port install wget`, etc. Try searching online!\n",
    "    * Windows Users\n",
    "        - [Check out this tutorial, page 2](https://blogs.nasa.gov/swesarr/wp-content/uploads/sites/305/2020/10/how_to_download_SWESARR_radar_data.pdf) You'll need to download binaries for `wget`, and you should really make it an environment variable!\n",
    "        \n",
    "Be sure to be diligent before installing anything to your computer.\n",
    "        \n",
    "Regardless, fill in your NASA Earthdata Login credentials and follow along!"
   ]
  },
  {
   "cell_type": "code",
   "execution_count": null,
   "id": "digital-rachel",
   "metadata": {},
   "outputs": [],
   "source": [
    "!wget --quiet https://n5eil01u.ecs.nsidc.org/SNOWEX/SNEX20_SWESARR_TB.001/2020.02.11/SNEX20_SWESARR_TB_GRMCT2_13801_20007_000_200211_XKKa225H_v01.csv -O {output_dir}/SNEX20_SWESARR_TB_GRMCT2_13801_20007_000_200211_XKuKa225H_v03.csv"
   ]
  },
  {
   "cell_type": "markdown",
   "id": "narrative-charity",
   "metadata": {},
   "source": [
    "#### Select an example radiometer data file"
   ]
  },
  {
   "cell_type": "code",
   "execution_count": null,
   "id": "recorded-acrobat",
   "metadata": {},
   "outputs": [],
   "source": [
    "# use the file we downloaded with wget above\n",
    "excel_path = f'{output_dir}/SNEX20_SWESARR_TB_GRMCT2_13801_20007_000_200211_XKuKa225H_v03.csv'\n",
    "\n",
    "# read data\n",
    "radiom = pd.read_csv(excel_path)"
   ]
  },
  {
   "cell_type": "markdown",
   "id": "moderate-adaptation",
   "metadata": {},
   "source": [
    "#### Lets examine the radiometer data files content"
   ]
  },
  {
   "cell_type": "code",
   "execution_count": null,
   "id": "parallel-woman",
   "metadata": {},
   "outputs": [],
   "source": [
    "radiom.hvplot.table(width=1100)"
   ]
  },
  {
   "cell_type": "markdown",
   "id": "imported-sphere",
   "metadata": {},
   "source": [
    "#### Plot radiometer data with hvplot"
   ]
  },
  {
   "cell_type": "code",
   "execution_count": null,
   "id": "micro-edwards",
   "metadata": {},
   "outputs": [],
   "source": [
    "# create several series from pandas dataframe\n",
    "\n",
    "lon_ser = pd.Series( radiom['Longitude (deg)'].to_list() * (3) )\n",
    "lat_ser = pd.Series( radiom['Latitude (deg)'].to_list() * (3) )\n",
    "\n",
    "tb_ser = pd.Series(\n",
    "    radiom['TB X (K)'].to_list() + radiom['TB K (K)'].to_list() + \n",
    "    radiom['TB Ka (K)'].to_list(), name=\"Tb\"\n",
    "     )\n",
    "\n",
    "# get series length, create IDs for plotting\n",
    "sl = len(radiom['TB X (K)'])\n",
    "id_ser = pd.Series(\n",
    "    ['X-band']*sl + ['K-band']*sl + ['Ka-band']*sl, name=\"ID\"\n",
    "     )\n",
    "\n",
    "frame = {'Longitude (deg)' : lon_ser, 'Latitude (deg)' : lat_ser,\n",
    "         'TB' : tb_ser, 'ID' : id_ser}\n",
    "radiom_p = pd.DataFrame(frame)\n",
    "\n",
    "del sl, lon_ser, lat_ser, tb_ser, id_ser, frame\n",
    "\n",
    "radiom_p.hvplot.points('Longitude (deg)', 'Latitude (deg)', groupby='ID', geo=True, color='TB', alpha=1,\n",
    "                        tiles='ESRI', height=400, width=500)"
   ]
  },
  {
   "cell_type": "markdown",
   "id": "incorrect-finnish",
   "metadata": {},
   "source": [
    "| 🎉 | Congratulations! You now know how to download and display a SWESARR radiometer dataset !      | 🎉 |\n",
    "| :---        | :---        | :---        |"
   ]
  },
  {
   "cell_type": "markdown",
   "id": "twenty-reasoning",
   "metadata": {},
   "source": [
    "## SAR and Radiometer Together"
   ]
  },
  {
   "cell_type": "markdown",
   "id": "enhanced-small",
   "metadata": {},
   "source": [
    "* The novelty of SWESARR lies in its colocated SAR and radiometer systems\n",
    "* Lets try filtering the SAR dataset and plotting both datasets together\n",
    "* For this session, I've made the code a function. We can look at it together by clicking __[here](swesarr/util/helper.py)__"
   ]
  },
  {
   "cell_type": "code",
   "execution_count": null,
   "id": "fitted-presentation",
   "metadata": {},
   "outputs": [],
   "source": [
    "data_p, data_ser = join_sar_radiom(da, radiom)\n",
    "\n",
    "data_p.hvplot.points('Longitude (deg)', 'Latitude (deg)', groupby='ID', geo=True, color='Measurements', alpha=1,\n",
    "                        tiles='ESRI', height=400, width=500)"
   ]
  },
  {
   "cell_type": "markdown",
   "id": "green-soviet",
   "metadata": {},
   "source": [
    "## Exercise"
   ]
  },
  {
   "cell_type": "markdown",
   "id": "limiting-animation",
   "metadata": {},
   "source": [
    "<div class=\"alert alert-block alert-info\">\n",
    "<b>Exercise:</b> \n",
    "     <ol>\n",
    "         <li>Plot a time-series visualization of the filtered SAR channels from the output of the \n",
    "             <font face=\"Courier New\" > join_sar_radiom()</font> function\n",
    "         </li>\n",
    "         <li>Plot a time-series visualization of the radiometer channels from the output of the \n",
    "             <font face=\"Courier New\" > join_sar_radiom()</font> function \n",
    "         </li>\n",
    "         <li>Hint: the data series variable (<font face=\"Courier New\" > data_ser </font>) is a pandas data series. \n",
    "             Use some of the methods shown above to read and plot the data!\n",
    "         </li>\n",
    "    </ol> \n",
    "</div>"
   ]
  },
  {
   "cell_type": "code",
   "execution_count": null,
   "id": "relative-orleans",
   "metadata": {},
   "outputs": [],
   "source": [
    "\n",
    "### Your Code Here #############################################################################################################\n",
    "#\n",
    "# Two of Many Options:\n",
    "# 1.) Go the matplotlib route\n",
    "#     a.) Further reading below:\n",
    "#         https://matplotlib.org/stable/tutorials/introductory/pyplot.html\n",
    "#\n",
    "# 2.) Try using hvplot tools if you like\n",
    "#      a.) Further reading below:\n",
    "#          https://hvplot.holoviz.org/user_guide/Plotting.html\n",
    "#\n",
    "# Remember, if you don't use a library all of the time, you'll end up <search engine of your choice>-ing it. Go crazy!\n",
    "#\n",
    "################################################################################################################################\n",
    "\n",
    "# configure some inline parameters to make things pretty / readable if you'd like to go with matplotlib\n",
    "%matplotlib inline\n",
    "import matplotlib.pyplot as plt\n",
    "plt.rcParams[\"figure.figsize\"] = (16, 9) # (w, h)"
   ]
  },
  {
   "cell_type": "markdown",
   "id": "crucial-colleague",
   "metadata": {},
   "source": [
    "<br><br><br>\n",
    "## [Warnings](#Table-of-Contents)\n",
    "<div class=\"alert alert-block alert-danger\">\n",
    "<b>Interpreting Data:</b> After the 2019 and 2020 measurement periods for SWESARR, an internal timing error was found in the flight data which affects the spatial precision of the measurements. While we are working to correct this geospatial error, please consider this offset before drawing conclusions from SWESARR data if you are using a dataset prior to this correction. The SWESARR website will announce the update of the geospatially corrected dataset.\n",
    "</div>\n"
   ]
  },
  {
   "cell_type": "code",
   "execution_count": null,
   "id": "e80697ad-274a-4529-ac3d-7a3f7b9d9ab7",
   "metadata": {},
   "outputs": [],
   "source": []
  }
 ],
 "metadata": {
  "kernelspec": {
   "display_name": "Python 3",
   "language": "python",
   "name": "python3"
  },
  "language_info": {
   "codemirror_mode": {
    "name": "ipython",
    "version": 3
   },
   "file_extension": ".py",
   "mimetype": "text/x-python",
   "name": "python",
   "nbconvert_exporter": "python",
   "pygments_lexer": "ipython3",
   "version": "3.8.8"
  }
 },
 "nbformat": 4,
 "nbformat_minor": 5
}
