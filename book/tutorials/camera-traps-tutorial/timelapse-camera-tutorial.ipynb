{
 "cells": [
  {
   "cell_type": "markdown",
   "id": "overall-density",
   "metadata": {},
   "source": [
    "# Time-lapse Cameras and Snow Applications\n",
    "\n",
    ":::{admonition} Learning Objectives\n",
    "\n",
    "**At the conclusion of this tutorial, you will...:**\n",
    "- Know about all the time-lapse images available from the SnowEx 2017 and 2020 field campaigns \n",
    "- View example time-lapse images from SnowEx 2020 and visualize their locations\n",
    "- Access snow depth measurements extracted from the SnowEx 2020 time-lapse images \n",
    "- Compare snow depths from different SnowEx 2020 time-lapse cameras \n",
    "\n",
    ":::"
   ]
  },
  {
   "cell_type": "markdown",
   "id": "civic-crest",
   "metadata": {},
   "source": [
    "## Time-lapse Cameras on Grand Mesa during SnowEx Field Campaigns\n",
    "Time-lapse cameras were installed in both the SnowEx 2017 and 2020 field campaigns on Grand Mesa in similar locations. \n",
    "\n",
    "**SnowEx 2017 Time-lapse Cameras** \n",
    "* 28 Total Time-lapse Cameras\n",
    "* Capturing the entire winter season (September 2016-June 2017)\n",
    "* Taking 4 photos/day at 8AM, 10AM, 12PM, 2PM, 4PM\n",
    "* An orange pole was installed in front of 15 cameras for snow depth measurements\n",
    "* Time-lapse images have been submitted to the NSIDC by Mark Raleigh with all the required metadata (e.g., locations, naming convention, etc.) for use. \n",
    "\n",
    "**SnowEx 2020 Time-lapse Cameras**\n",
    "* 29 Total Time-lapse Cameras\n",
    "* Capturing the entire winter season (September 2019-June 2020)\n",
    "* Taking 3 photos/day at 11AM, 12PM, 1PM or 2 photos/day at 11AM and 12PM\n",
    "* A red pole was installed in front of each camera for snow depth measurements.\n",
    "* Cameras were installed on the east and west side of the Grand Mesa, across a vegetation scale of 1-9, using the convention __XMR__:\n",
    "    * **X** = East (E) or West (W) areas of the Mesa\n",
    "    * **M** = number 1-9, representing 1 (least vegetation) to 9 (most vegetation). Within each vegetation class, there were three sub-classes of snow depths derived from 2017 SnowEx lidar measurements. \n",
    "    * **R** = Replicate of vegetation assignment, either A, B, C, D, or E. \n",
    "        \n",
    "* *The complete set of time-lapse images from 2020 are in progress for submission to the NSIDC. A subset of them are available here for you to use during hackweek.*"
   ]
  },
  {
   "cell_type": "markdown",
   "id": "threaded-accounting",
   "metadata": {},
   "source": [
    "### All the time-lapse camera sites from SnowEx 2017 and 2020 plotted together on Grand Mesa. \n",
    "This is an interactive plot. You can zoom into the sites and click on the location icon to see the site name.\n",
    "* $\\color{red}{\\text{2017 locations are in red}}$\n",
    "* $\\color{blue}{\\text{2020 locations are in blue}}$\n",
    "\n",
    "\n",
    "The following block of code to produce this plot is hidden. The interested viewer can click the **. . .** to view the *Folium* code. \\\n",
    "*Folium* provides a simple way to visualize points, but it requires a lot of manual code to produce. \\\n",
    "In this tutorial, we will show you how to access and view the camera data in a more automatted way. But this plot gives you an idea of where all the 2017 and 2020 sites are. "
   ]
  },
  {
   "cell_type": "code",
   "execution_count": null,
   "id": "prospective-terminal",
   "metadata": {
    "tags": [
     "hide-input"
    ]
   },
   "outputs": [],
   "source": [
    "# Import the mapping package\n",
    "import folium # folium interactive notebook plotting: quick start guide here: https://python-visualization.github.io/folium/quickstart.html\n",
    "\n",
    "# Create the basemap\n",
    "tooltip = \"Click me!\"\n",
    "m = folium.Map(location=[39.035, -108.0612], tiles=\"Stamen Terrain\", zoom_start=11, width='70%', height='70%', control_scale=True)\n",
    "\n",
    "# Add all the points to the map\n",
    "# SnowEx 2017 Sites \n",
    "folium.Marker([39.0325,-108.2162], popup=\"TLS-A1N\", tooltip=tooltip, icon=folium.Icon(color='red')).add_to(m)\n",
    "folium.Marker([39.0327,-108.2152], popup=\"TLS-A2S\", tooltip=tooltip, icon=folium.Icon(color='red')).add_to(m)\n",
    "folium.Marker([39.0331,-108.2155], popup=\"TLS-A3E\", tooltip=tooltip, icon=folium.Icon(color='red')).add_to(m)\n",
    "\n",
    "folium.Marker([39.0098,-108.1817987], popup=\"TLS-D1E\", tooltip=tooltip, icon=folium.Icon(color='red')).add_to(m)\n",
    "folium.Marker([39.0095,-108.1812], popup=\"TLS-D2E\", tooltip=tooltip, icon=folium.Icon(color='red')).add_to(m)\n",
    "folium.Marker([39.0095,-108.1814], popup=\"TLS-D3W\", tooltip=tooltip, icon=folium.Icon(color='red')).add_to(m)\n",
    "\n",
    "folium.Marker([39.0081,-108.1354283], popup=\"TLS-F1W\", tooltip=tooltip, icon=folium.Icon(color='red')).add_to(m)\n",
    "folium.Marker([39.0078,-108.1364], popup=\"TLS-F2E\", tooltip=tooltip, icon=folium.Icon(color='red')).add_to(m)\n",
    "folium.Marker([39.0077,-108.1376], popup=\"TLS-F3N\", tooltip=tooltip, icon=folium.Icon(color='red')).add_to(m)\n",
    "\n",
    "folium.Marker([39.0328,-108.0278], popup=\"TLS-L1W\", tooltip=tooltip, icon=folium.Icon(color='red')).add_to(m)\n",
    "folium.Marker([39.0328,-108.0301], popup=\"TLS-L2E\", tooltip=tooltip, icon=folium.Icon(color='red')).add_to(m)\n",
    "\n",
    "folium.Marker([39.0343,-108.0554], popup=\"TLS-K1E\", tooltip=tooltip, icon=folium.Icon(color='red')).add_to(m)\n",
    "folium.Marker([39.0342,-108.0552], popup=\"TLS-K2E\", tooltip=tooltip, icon=folium.Icon(color='red')).add_to(m)\n",
    "folium.Marker([39.0342,-108.0543], popup=\"TLS-K3E\", tooltip=tooltip, icon=folium.Icon(color='red')).add_to(m)\n",
    "folium.Marker([39.0344,-108.0543], popup=\"TLS-K4E\", tooltip=tooltip, icon=folium.Icon(color='red')).add_to(m)\n",
    "folium.Marker([39.0337,-108.054],  popup=\"TLS-K5E\", tooltip=tooltip, icon=folium.Icon(color='red')).add_to(m)\n",
    "folium.Marker([39.0342,-108.0544], popup=\"TLS-K6E\", tooltip=tooltip, icon=folium.Icon(color='red')).add_to(m)\n",
    "\n",
    "folium.Marker([39.0513,-108.0608], popup=\"TLS-J1N\", tooltip=tooltip, icon=folium.Icon(color='red')).add_to(m)\n",
    "folium.Marker([39.052,-108.0615],  popup=\"TLS-J2N\", tooltip=tooltip, icon=folium.Icon(color='red')).add_to(m)\n",
    "folium.Marker([39.0511,-108.0614], popup=\"TLS-J3S\", tooltip=tooltip, icon=folium.Icon(color='red')).add_to(m)\n",
    "folium.Marker([39.0507,-108.0614], popup=\"TLS-J4N\", tooltip=tooltip, icon=folium.Icon(color='red')).add_to(m)\n",
    "\n",
    "folium.Marker([39.0543,-108.0944], popup=\"CG-O1S\", tooltip=tooltip, icon=folium.Icon(color='red')).add_to(m)\n",
    "folium.Marker([39.0543,-108.0942], popup=\"CG-O2E\", tooltip=tooltip, icon=folium.Icon(color='red')).add_to(m)\n",
    "folium.Marker([39.0545,-108.0945], popup=\"CG-O3N\", tooltip=tooltip, icon=folium.Icon(color='red')).add_to(m)\n",
    "\n",
    "folium.Marker([39.0284,-107.9337], popup=\"TLS-N1E\", tooltip=tooltip, icon=folium.Icon(color='red')).add_to(m)\n",
    "folium.Marker([39.0282,-107.9886], popup=\"TLS-N2N\", tooltip=tooltip, icon=folium.Icon(color='red')).add_to(m)\n",
    "folium.Marker([39.0273,-107.9338], popup=\"TLS-N3E\", tooltip=tooltip, icon=folium.Icon(color='red')).add_to(m)\n",
    "folium.Marker([39.0271,-107.9337], popup=\"TLS-N4W\", tooltip=tooltip, icon=folium.Icon(color='red')).add_to(m)\n",
    "\n",
    "# SnowEx 2020 Sites\n",
    "folium.Marker([39.097329,-107.887477], popup=\"E8A\", tooltip=tooltip, icon=folium.Icon(color='blue')).add_to(m)\n",
    "folium.Marker([39.097464,-107.862476], popup=\"E6A\", tooltip=tooltip, icon=folium.Icon(color='blue')).add_to(m)\n",
    "folium.Marker([39.108011,-107.881267], popup=\"E3A\", tooltip=tooltip, icon=folium.Icon(color='blue')).add_to(m)\n",
    "folium.Marker([39.103561,-107.880742], popup=\"E9A\", tooltip=tooltip, icon=folium.Icon(color='blue')).add_to(m)\n",
    "folium.Marker([39.100639,-107.900614], popup=\"E9B\", tooltip=tooltip, icon=folium.Icon(color='blue')).add_to(m)\n",
    "folium.Marker([39.04897,-107.91307],   popup=\"E6B\", tooltip=tooltip, icon=folium.Icon(color='blue')).add_to(m)\n",
    "folium.Marker([39.098962,-107.893702], popup=\"E9C\", tooltip=tooltip, icon=folium.Icon(color='blue')).add_to(m)\n",
    "folium.Marker([39.074028,-107.877689], popup=\"E9D\", tooltip=tooltip, icon=folium.Icon(color='blue')).add_to(m)\n",
    "folium.Marker([39.059881,-107.876662], popup=\"E9E\", tooltip=tooltip, icon=folium.Icon(color='blue')).add_to(m)\n",
    "folium.Marker([39.047323,-107.923406], popup=\"E9F\", tooltip=tooltip, icon=folium.Icon(color='blue')).add_to(m)\n",
    "folium.Marker([39.03827,-107.935097],  popup=\"E9G\", tooltip=tooltip, icon=folium.Icon(color='blue')).add_to(m)\n",
    "\n",
    "folium.Marker([39.017236,-108.18488],  popup=\"W1A\", tooltip=tooltip, icon=folium.Icon(color='blue')).add_to(m)\n",
    "folium.Marker([39.013823,-108.208536], popup=\"W2A\", tooltip=tooltip, icon=folium.Icon(color='blue')).add_to(m)\n",
    "folium.Marker([39.050599,-108.051624], popup=\"W8A\", tooltip=tooltip, icon=folium.Icon(color='blue')).add_to(m)\n",
    "folium.Marker([39.036208,-108.161851], popup=\"W9A\", tooltip=tooltip, icon=folium.Icon(color='blue')).add_to(m)\n",
    "folium.Marker([39.013208,-108.186994], popup=\"W3A\", tooltip=tooltip, icon=folium.Icon(color='blue')).add_to(m)\n",
    "folium.Marker([39.017744,-108.165836], popup=\"W5A\", tooltip=tooltip, icon=folium.Icon(color='blue')).add_to(m)\n",
    "folium.Marker([39.012546,-108.185686], popup=\"W6A\", tooltip=tooltip, icon=folium.Icon(color='blue')).add_to(m)\n",
    "\n",
    "\n",
    "folium.Marker([39.008078,-108.18479],  popup=\"W1B\", tooltip=tooltip, icon=folium.Icon(color='blue')).add_to(m)\n",
    "folium.Marker([39.029174,-108.199952], popup=\"W2B\", tooltip=tooltip, icon=folium.Icon(color='blue')).add_to(m)\n",
    "folium.Marker([39.016342,-108.169688], popup=\"W6B\", tooltip=tooltip, icon=folium.Icon(color='blue')).add_to(m)\n",
    "folium.Marker([39.012393,-108.17615],  popup=\"W9B\", tooltip=tooltip, icon=folium.Icon(color='blue')).add_to(m)\n",
    "\n",
    "folium.Marker([39.012837,-108.174167], popup=\"W6C\", tooltip=tooltip, icon=folium.Icon(color='blue')).add_to(m)\n",
    "folium.Marker([39.012585,-108.095973], popup=\"W8C\", tooltip=tooltip, icon=folium.Icon(color='blue')).add_to(m)\n",
    "folium.Marker([39.024416,-108.171069], popup=\"W9C\", tooltip=tooltip, icon=folium.Icon(color='blue')).add_to(m)\n",
    "folium.Marker([39.036476,-108.155686], popup=\"W9D\", tooltip=tooltip, icon=folium.Icon(color='blue')).add_to(m)\n",
    "folium.Marker([39.033751,-108.160689], popup=\"W9E\", tooltip=tooltip, icon=folium.Icon(color='blue')).add_to(m)\n",
    "folium.Marker([39.031366,-108.180167], popup=\"W9G\", tooltip=tooltip, icon=folium.Icon(color='blue')).add_to(m)\n",
    "\n",
    "folium.Marker([39.033806,-108.053996], popup=\"TLSK20\", tooltip=tooltip, icon=folium.Icon(color='blue')).add_to(m)\n",
    "\n",
    "m"
   ]
  },
  {
   "cell_type": "markdown",
   "id": "binary-thong",
   "metadata": {},
   "source": [
    "* $\\color{red}{\\text{2017 locations are in red}}$\n",
    "* $\\color{blue}{\\text{2020 locations are in blue}}$"
   ]
  },
  {
   "cell_type": "markdown",
   "id": "textile-australian",
   "metadata": {},
   "source": [
    "### An automated way of viewing and mapping time-lapse photos"
   ]
  },
  {
   "cell_type": "markdown",
   "id": "polyphonic-passage",
   "metadata": {},
   "source": [
    "**First, import all the packages we'll need for this tutorial**"
   ]
  },
  {
   "cell_type": "code",
   "execution_count": null,
   "id": "laden-weather",
   "metadata": {},
   "outputs": [],
   "source": [
    "# Packages to connect and download from the SnowEx database \n",
    "import snowexsql.db # import SnowEx SQL library\n",
    "from snowexsql.db import get_db # connection function from the snowexsql library\n",
    "from snowexsql.data import PointData, SiteData # point and table classes \n",
    "from snowexsql.conversions import query_to_geopandas # function to convert incoming data from database to geopandas df\n",
    "\n",
    "# Packages for data analysis \n",
    "import geopandas as gpd # geopandas library for data analysis and visualization\n",
    "import pandas as pd # pandas as to read csv data and visualize tabular data\n",
    "import numpy as np # numpy for data analysis \n",
    "\n",
    "# Packages for data visualization\n",
    "import matplotlib.pyplot as plt # matplotlib.pyplot for plotting images and graphs\n",
    "from IPython.display import Image # used to display images inside the notebook\n",
    "import seaborn as sns # a module that adds some plotting capabilities \n",
    "import matplotlib as mpl # import all of matplotlib for plotting \n",
    "\n",
    "# The following settings just set some defaults for the plots in this notebook\n",
    "sns.set() # activates some of the default settings from seaborn\n",
    "sns.set_style(\"dark\", {\"xtick.bottom\": True, 'ytick.left': True}) # improves x and y ticks \n",
    "\n",
    "plt.rcParams['figure.figsize']  = (10, 4) # figure size\n",
    "plt.rcParams['axes.titlesize']  = 14 # title size \n",
    "plt.rcParams['axes.labelsize']  = 12 # axes label size \n",
    "plt.rcParams['xtick.labelsize'] = 11 # x tick label size \n",
    "plt.rcParams['ytick.labelsize'] = 11 # y tick label size \n",
    "plt.rcParams['legend.fontsize'] = 11 # legend size \n",
    "mpl.rcParams['figure.dpi'] = 100"
   ]
  },
  {
   "cell_type": "markdown",
   "id": "ready-monitor",
   "metadata": {},
   "source": [
    "**We will map 2020 time-lapse camera locations on the Grand Mesa with the 2020 snow pits for reference.** \n",
    "\n",
    "\n",
    "*code credit: Micah Johnson*"
   ]
  },
  {
   "cell_type": "code",
   "execution_count": null,
   "id": "nasty-flush",
   "metadata": {},
   "outputs": [],
   "source": [
    "# Connect to the database\n",
    "db_name = 'snow:hackweek@db.snowexdata.org/snowex'\n",
    "engine, session = get_db(db_name)\n",
    "\n",
    "# Grab all the point data that was that was measured with a time-lapse camera \n",
    "qry = session.query(PointData)\n",
    "qry = qry.filter(PointData.instrument == 'camera')\n",
    "\n",
    "# Convert it to a geopandas df and visualize the dataframe\n",
    "camera_depths = query_to_geopandas(qry, engine)\n",
    "print(camera_depths.head())"
   ]
  },
  {
   "cell_type": "markdown",
   "id": "creative-bowling",
   "metadata": {},
   "source": [
    "**Pull out the columns of interest to make it easier to visualize**\n",
    "\n",
    "'Equipment' is camera ID, 'time' is the time of day the photo was taken (11AM, 12PM, or 1PM), 'latitude' and 'longitude' provide location, and 'value' is the snow depth at the snow pole in centimeters.\n",
    "\n",
    ":::{admonition} Important Note :class: hint\n",
    "\n",
    "'-6:00' in the *time* column indicates the UTC time zone.  \n",
    ":::"
   ]
  },
  {
   "cell_type": "code",
   "execution_count": null,
   "id": "nearby-benchmark",
   "metadata": {},
   "outputs": [],
   "source": [
    "camera_depths[['equipment','time','latitude','longitude','value']]"
   ]
  },
  {
   "cell_type": "markdown",
   "id": "nervous-compression",
   "metadata": {},
   "source": [
    "**Grab all the unique geometry objects (i.e., locations)**"
   ]
  },
  {
   "cell_type": "code",
   "execution_count": null,
   "id": "sitting-program",
   "metadata": {},
   "outputs": [],
   "source": [
    "qry = session.query(SiteData.geom).distinct()\n",
    "pits = query_to_geopandas(qry, engine)\n",
    "pits.head()"
   ]
  },
  {
   "cell_type": "markdown",
   "id": "sealed-luther",
   "metadata": {},
   "source": [
    "**And, print out how many of each we found** "
   ]
  },
  {
   "cell_type": "code",
   "execution_count": null,
   "id": "toxic-proceeding",
   "metadata": {},
   "outputs": [],
   "source": [
    "print(f'Found {len(camera_depths[\"geom\"].unique())} time-lapse camera locations')\n",
    "print(f'Found {len(pits.index)} pit site locations')\n",
    "\n",
    "# End our database session to avoid hanging transactions\n",
    "session.close()"
   ]
  },
  {
   "cell_type": "markdown",
   "id": "environmental-cookie",
   "metadata": {},
   "source": [
    "#### Plot the camera locations, using snow pit locations for reference."
   ]
  },
  {
   "cell_type": "code",
   "execution_count": null,
   "id": "martial-mason",
   "metadata": {},
   "outputs": [],
   "source": [
    "# plot the pits as triangles\n",
    "ax = pits.plot(marker='^', color='gray', label='Pits')\n",
    "\n",
    "# Plot the cameras as squares\n",
    "ax = camera_depths.plot(ax=ax, color='cornflowerblue', marker='s', label='Time-lapse Cameras')\n",
    "\n",
    "# Don't use scientific notation on the ticks for utm coords\n",
    "ax.ticklabel_format(style='plain', useOffset=False)\n",
    "ax.set_xlabel('Easting [m]')\n",
    "ax.set_ylabel('Northing [m]')\n",
    "ax.legend()\n",
    "\n",
    "plt.title('Snow Pit and Time-lapse Camera Locations from SnowEx 2020 ')\n",
    "plt.tight_layout()\n",
    "plt.grid()\n",
    "plt.show()"
   ]
  },
  {
   "cell_type": "markdown",
   "id": "remarkable-jamaica",
   "metadata": {},
   "source": [
    "- What do you notice? Is there overlap between the snow pit and camera trap locations?"
   ]
  },
  {
   "cell_type": "markdown",
   "id": "completed-shock",
   "metadata": {},
   "source": [
    "### Viewing the time-lapse photos\n",
    "**Download the sample datasets for this tutorial** \\\n",
    "For ease of access during the hackweek, sample files are available for download for running the command in the cell below."
   ]
  },
  {
   "cell_type": "code",
   "execution_count": null,
   "id": "bibliographic-pendant",
   "metadata": {},
   "outputs": [],
   "source": [
    "#%%bash \n",
    "\n",
    "# Datasets used in this tutorial are accessed directly from their online repositories\n",
    "# But we also made a copy on zenodo in case servers are down, etc:\n",
    "\n",
    "#cd /tmp\n",
    "#wget -nc https://zenodo.org/record/RECORD_ID/files/snowex-hackweek/tutorial-data.zip -O tutorial-data.zip\n",
    "#wget -nc https://zenodo.org/record/3600624/files/dshean/hma_mb_paper-v1.0.zip -O tutorial-data.zip\n",
    "#unzip -n tutorial-data.zip\n",
    "\n",
    "# temporary equivalent\n",
    "#aws s3 sync --quiet s3://snowex-data/zenodo-data/ /tmp/tutorial-data "
   ]
  },
  {
   "cell_type": "code",
   "execution_count": null,
   "id": "according-peoples",
   "metadata": {},
   "outputs": [],
   "source": [
    "TUTORIAL_DATA = '/tmp/tutorial-data/camera-trap'"
   ]
  },
  {
   "cell_type": "markdown",
   "id": "charming-heritage",
   "metadata": {},
   "source": [
    ":::{admonition} Important Note :class: hint\n",
    "\n",
    "Remember, this is a subset of sample images from SnowEx 2020 temporarily stored for SnowEx Hackweek The final images for SnowEx 2017 and 2020 will all be available on NSIDC. \n",
    "\n",
    ":::"
   ]
  },
  {
   "cell_type": "markdown",
   "id": "finished-coffee",
   "metadata": {},
   "source": [
    "**Now display an example time-lapse image inside the notebook**\n",
    "\n",
    "\n",
    "We will now pull time-lapse imagery for one camera, camera E9B, from the SnowEx 2020 field campaign. E9B is from the __E__ ast side of the Mesa, in a high vegetation area (__9__), and it is the second replicate of this combination (__B__). We will pull images and display a sample from various times of the winter season to provide a sense of what image and the snow poles look like.  "
   ]
  },
  {
   "cell_type": "code",
   "execution_count": null,
   "id": "expensive-overhead",
   "metadata": {},
   "outputs": [],
   "source": [
    "# Pull and display the images from Oct, Jan, and May \n",
    "october_img = Image(filename=f'{TUTORIAL_DATA}/WSCT0101.JPG', width=500, height=350)\n",
    "print('Site E9B in October')\n",
    "display(october_img)\n",
    "\n",
    "january_img = Image(filename=f'{TUTORIAL_DATA}/WSCT0378.JPG', width=500, height=350)\n",
    "print('Site E9B in January')\n",
    "display(january_img)\n",
    "\n",
    "may_img = Image(filename=f'{TUTORIAL_DATA}/WSCT0742.JPG', width=500, height=350)\n",
    "print('Site E9B in May')\n",
    "display(may_img)"
   ]
  },
  {
   "cell_type": "markdown",
   "id": "hourly-johnson",
   "metadata": {},
   "source": [
    "- What do you notice? Is this an open or closed canopy site? \n",
    "- Can you see the snow rising and falling on the pole? \n",
    "- What are some snow properties that you might be able to measure using these devices? "
   ]
  },
  {
   "cell_type": "markdown",
   "id": "viral-drink",
   "metadata": {},
   "source": [
    "## Time-lapse Camera Applications\n",
    "\n",
    "### 1. Snow Depth from Time-lapse Images\n",
    "\n",
    "Installing snow poles in front of time-lapse camera provides low-cost, long-term snow depth timeseries. Snow depths from the 2020 SnowEx time-lapse imagery have been manually processed with estimation of submission to the NSIDC database in summer 2021. \n",
    "\n",
    "The snow depth is the difference between the number of pixels in a snow-free image and an image with snow, with a conversion from pixels to centimeters (**Figure 1**)."
   ]
  },
  {
   "cell_type": "code",
   "execution_count": null,
   "id": "electronic-prospect",
   "metadata": {},
   "outputs": [],
   "source": [
    "pil_img = Image(filename=f'{TUTORIAL_DATA}/Picture1.png', width=800, height=500)\n",
    "display(pil_img)"
   ]
  },
  {
   "cell_type": "markdown",
   "id": "alone-jacket",
   "metadata": {},
   "source": [
    "**Figure 1: Equation to extract snow depth from camera images. For each image, take the difference in pixels between the length of a snow-free stake and the length of the stake and multiply by length(cm)/pixel. The ratio can be found by dividing the full length of the stake (304.8 cm) by the length of a snow-free stake in pixels.**\n",
    "\n",
    "Below we will explore the snow depth dataset created from this methodology. "
   ]
  },
  {
   "cell_type": "markdown",
   "id": "accessory-coordinator",
   "metadata": {},
   "source": [
    "#### **Plot the Snow Depth created from a Vegetated and an Open Camera Site**\n",
    "\n",
    "The SnowEx SQL database that we used to plot the locations has the snow depth values at all cameras. To show how we can use the SQL database to plot depths at different cameras, we will compare two cameras on the same (West) side of the Mesa, cameras W1A and W9A. One is an open site (W**1**A) and the other is a closed site (W**9**A).\n",
    "\n"
   ]
  },
  {
   "cell_type": "markdown",
   "id": "dress-reset",
   "metadata": {},
   "source": [
    "#### Let's start by visualizing where these two camera sites are on Grand Mesa\n",
    "\n",
    "This is an interactive plot. You can zoom into the sites and click on the location icon to see the site name.\n",
    "* $\\color{blue}{\\text{W1A: Open Site in blue}}$\n",
    "* $\\color{green}{\\text{W9A: Forested Site in green}}$"
   ]
  },
  {
   "cell_type": "code",
   "execution_count": null,
   "id": "cooperative-atlanta",
   "metadata": {},
   "outputs": [],
   "source": [
    "# Create the folium map, more folium package information here: https://python-visualization.github.io/folium/modules.html\n",
    "m = folium.Map(location=[39.035, -108.1612], tiles=\"Stamen Terrain\", zoom_start=12, width='60%', height='60%', control_scale=True) # location (lat,lon) are the map center, tiles is the base map\n",
    "folium.Marker([39.017236,-108.18488], popup=\"W1A: Open Site\", tooltip=tooltip, icon=folium.Icon(color='darkblue')).add_to(m) # add a marker for W1A: Open Site in Blue \n",
    "folium.Marker([39.036208,-108.161851], popup=\"W9A: Forested Site\", tooltip=tooltip, icon=folium.Icon(color='darkgreen')).add_to(m) # add a marker for W9A: Forested Site in Green\n",
    "m # Plot the final map"
   ]
  },
  {
   "cell_type": "markdown",
   "id": "regulated-pride",
   "metadata": {},
   "source": [
    "**View associated time-lapse images using the AWS server.**"
   ]
  },
  {
   "cell_type": "code",
   "execution_count": null,
   "id": "every-bristol",
   "metadata": {},
   "outputs": [],
   "source": [
    "open_canopy = Image(filename=f'{TUTORIAL_DATA}/W1A/WSCT0013.JPG',  width=500, height=350)\n",
    "print('Below is the open site, W1A')\n",
    "display(open_canopy)\n",
    "closed_canopy = Image(filename=f'{TUTORIAL_DATA}/W9A/WSCT0009.JPG',  width=500, height=350)\n",
    "print('Below is the forested site, W9A')\n",
    "display(closed_canopy)"
   ]
  },
  {
   "cell_type": "markdown",
   "id": "thrown-return",
   "metadata": {},
   "source": [
    "**Grab the site data for both sites from the database**"
   ]
  },
  {
   "cell_type": "code",
   "execution_count": null,
   "id": "neural-royalty",
   "metadata": {},
   "outputs": [],
   "source": [
    "# Grab the open site data from the database\n",
    "open_site = 'W1A'\n",
    "veg_site = 'W9A'\n",
    "qry = session.query(PointData).filter(PointData.equipment.contains(open_site))\n",
    "df_open = query_to_geopandas(qry,engine)\n",
    "\n",
    "# Grab the vegetated site from the database\n",
    "qry = session.query(PointData).filter(PointData.equipment.contains(veg_site))\n",
    "df_veg = query_to_geopandas(qry,engine)\n",
    "\n",
    "# Set the date as the index for easy plotting/reading\n",
    "df_open = df_open.set_index('date')\n",
    "df_veg = df_veg.set_index('date')"
   ]
  },
  {
   "cell_type": "markdown",
   "id": "fourth-lyric",
   "metadata": {},
   "source": [
    "**Plot the snow depth from open and forested time-lapse camera sites together**"
   ]
  },
  {
   "cell_type": "code",
   "execution_count": null,
   "id": "saving-solid",
   "metadata": {},
   "outputs": [],
   "source": [
    "# Plot the two datasets by date\n",
    "ax = df_open['value'].plot(label=f'Open Site ({open_site})', color='royalblue', linewidth=2) #  'value' column is snow depth column in SQL database\n",
    "df_veg['value'].plot(ax=ax, label=f'Forested Site ({veg_site})', color='green', linewidth=2) #  'value' column is snow depth column in SQL database\n",
    "\n",
    "# Mess with some labeling to make it look nice\n",
    "ax.legend()\n",
    "ax.set_ylabel('Snow Depth [cm]')\n",
    "\n",
    "plt.title('Snow Depth for Water Year (WY) 2020 from Two Different Time-lapse Camera Locations')\n",
    "plt.tight_layout()\n",
    "plt.grid()\n",
    "plt.show()"
   ]
  },
  {
   "cell_type": "markdown",
   "id": "expired-entry",
   "metadata": {},
   "source": [
    "Previous forest-snow research, such as *Dickerson-Lange et al. (2017)*, have used similar analysis to determine the snow disappearance timing in forested regions of the Pacific Northwest. Further research could use this dataset to explore the following, \n",
    "\n",
    "- What do you notice about the differences between the open and closed canopy site? \n",
    "- What might be some drawbacks to this method? \n",
    "- What would it look like to map and compare snow depth at all the closed canopy sites to all the open canopy sites? "
   ]
  },
  {
   "cell_type": "markdown",
   "id": "unlike-injury",
   "metadata": {},
   "source": [
    "### 2. Citizen Science Snow Classifications\n",
    "\n",
    "Time-lapse photos from SnowEx 2017 were uploaded to a citizen science platform called Zooniverse (https://www.zooniverse.org/) and classified by thousands of volunteers as part of the *Snow Spotter* project (https://www.zooniverse.org/projects/mozerm/snow-spotter). Citizen scientists responded to questions about snow in the time-lapse photos, such as *\"is there snow on the ground?\"*, *\"is there snow in the tree branches?\"* and *\"are there clouds in the sky?\"*. These classifications are used to create a binary timeseries about snow conditions at the time-lapse camera sites on Grand Mesa for 2017 (*in review* Lumbrazo et al., 2021). \n",
    "\n",
    "The 2020 images will be uploaded to *Snow Spotter* and classified by citizen scientists as well."
   ]
  },
  {
   "cell_type": "markdown",
   "id": "special-sandwich",
   "metadata": {},
   "source": [
    ":::{admonition} Potential Project Ideas\n",
    "* Compare snow depth created from the snow poles with >1 additional SnowEx snow depth measurement\n",
    "    * snow pit snow depth data, airborne LiDAR, snow depth from ground-based terrestrial lidar, etc. \n",
    "\n",
    "\n",
    "* Compare snow depths created from the snow poles between open and closed vegetation sites\n",
    "\n",
    "* Pull in sample time-lapse images for sites you are working with to view the canopy conditions and visualize site characteristics \n",
    "\n",
    "If you have any other questions or ideas throughout Hackweek, we will be happy to help! Feel free to contact us. \n",
    "\n",
    "Tutorial Authors \n",
    "- Catherine (Katie) Breen, cbreen@uw.edu\n",
    "- Cassie Wells Lumbrazo, lumbraca@uw.edu\n",
    "\n",
    ":::\n",
    "\n",
    "\n",
    "If you want to use any time-lapse photos for your Hackweek projects, the following are on the SnowEx's Amazon Web Service (AWS) server for easy downloading this week, \n",
    "* All the time-lapse photos from two 2020 sites (i.e., W1A, W9A) \n",
    "* 1 photo from every 2020 time-lapse camera site (images from early-February)\n",
    "\n",
    "And everything else will be available on NSIDC. "
   ]
  },
  {
   "cell_type": "markdown",
   "id": "excessive-redhead",
   "metadata": {},
   "source": [
    "### **Thanks for attending this tutorial. We look forward to see what you will find in these datasets!**\n",
    "\n",
    "*Acknowledgements: Anthony Arendt, Scott Henderson, Micah Johnson, Carrie Vuyovich, Ryan Currier, Megan Mason, Mark Raleigh*\n",
    "\n",
    "**Additional notes**\\\n",
    "Automated methods to extract snow depth using the Hough Transform (Currier et al. 2017) have been used on this (*in progress* Breen et al., 2021). The available automated and manual codes are available on GitHub: https://github.com/wcurrier/Measure_Snow_Depth_Poles & https://github.com/catherine-m-breen/Snow-Depth-From-Snow-Stakes. \n",
    "\n",
    "**References**\\\n",
    "Dickerson-Lange et al., 2017. *Snow disappearance timing is dominated by forest effects on snow accumulation in warm winter climates of the Pacific Northwest, United States.* Hydrological Processes. Vol 31, Issue 10. 13 February 2017. https://doi.org/10.1002/hyp.11144\n",
    "\n",
    "Raleigh et al., 2013. *Approximating snow surface temperature from standard temperature and humidity data: New possibilities for snow model and remote sensing evaluation*. Water Resources Research. Vol 49, Issue 12. 07 November 2013.  https://doi.org/10.1002/2013WR013958"
   ]
  }
 ],
 "metadata": {
  "kernelspec": {
   "display_name": "Python 3",
   "language": "python",
   "name": "python3"
  },
  "language_info": {
   "codemirror_mode": {
    "name": "ipython",
    "version": 3
   },
   "file_extension": ".py",
   "mimetype": "text/x-python",
   "name": "python",
   "nbconvert_exporter": "python",
   "pygments_lexer": "ipython3",
   "version": "3.8.8"
  }
 },
 "nbformat": 4,
 "nbformat_minor": 5
}
