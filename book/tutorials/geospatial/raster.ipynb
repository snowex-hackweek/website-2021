{
 "cells": [
  {
   "cell_type": "markdown",
   "id": "statistical-words",
   "metadata": {},
   "source": [
    "# Raster data\n",
    "\n",
    "```{admonition} Learning Objectives\n",
    "*A 30 minute guide to raster data for SnowEX*\n",
    "- find, visualize, interpret raster data formats\n",
    "- reproject rasters to different coordinate reference systems\n",
    "- use Python raster libraries [rasterio](https://github.com/mapbox/rasterio) and [rioxarray](https://corteva.github.io/rioxarray)\n",
    "```"
   ]
  },
  {
   "cell_type": "markdown",
   "id": "impossible-class",
   "metadata": {},
   "source": [
    "## Raster Basics\n",
    "\n",
    "*Raster data is stored as a grid of values which are rendered on a map as pixels. Each pixel value represents an area on the Earth's surface.* Pixel values can be continuous (elevation) or categorical (land use).  This data structure is very common - jpg images on the web, photos from your digital camera. A geospatial raster is only unique in that it is accompanied by metadata that connects the pixel grid to a location on Earth's surface.\n",
    "\n",
    "### Coordinate Reference System or \"CRS\"\n",
    "This specifies the datum, projection, and additional parameters needed to place the raster in geographic space. For a dedicated lesson on CRSs, see: https://datacarpentry.org/organization-geospatial/03-crs/index.html\n",
    "\n",
    "The natural representation of an image in programming is as an array, or matrix, with accompanying metadata to keep track of the geospatial information such as CRS. "
   ]
  },
  {
   "cell_type": "code",
   "execution_count": null,
   "id": "stretch-directory",
   "metadata": {},
   "outputs": [],
   "source": [
    "# It's good practice to keep track of the versions of various packages you are using\n",
    "import rioxarray\n",
    "import xarray as xr\n",
    "import rasterio\n",
    "import numpy as np\n",
    "import os\n",
    "\n",
    "print('rioxarray version:', rioxarray.__version__)\n",
    "print('xarray version:', xr.__version__)\n",
    "print('rasterio version:', rasterio.__version__)\n",
    "\n",
    "# Work in a temporary directory\n",
    "os.chdir('/tmp')\n",
    "\n",
    "# Plotting setup\n",
    "import matplotlib.pyplot as plt\n",
    "%config InlineBackend.figure_format='retina'\n",
    "#plt.rcParams.update({'font.size': 16}) # make matplotlib font sizes bigger"
   ]
  },
  {
   "cell_type": "code",
   "execution_count": null,
   "id": "outside-ownership",
   "metadata": {},
   "outputs": [],
   "source": [
    "#%%bash \n",
    "\n",
    "# Datasets used in this tutorial are accessed directly from their online repositories\n",
    "# But we also made a copy on zenodo in case servers are down, etc:\n",
    "\n",
    "#cd /tmp\n",
    "#wget -nc https://zenodo.org/record/RECORD_ID/files/snowex-hackweek/tutorial-data.zip -O tutorial-data.zip\n",
    "#wget -nc https://zenodo.org/record/3600624/files/dshean/hma_mb_paper-v1.0.zip -O tutorial-data.zip\n",
    "#unzip -n tutorial-data.zip\n",
    "\n",
    "# temporary equivalent\n",
    "#aws s3 sync --quiet s3://snowex-data/zenodo-data/ /tmp/tutorial-data "
   ]
  },
  {
   "cell_type": "markdown",
   "id": "based-ireland",
   "metadata": {},
   "source": [
    "## Elevation rasters\n",
    "\n",
    "\n",
    "Let's compare a few elevation rasters over Grand Mesa, CO. \n",
    "\n",
    "### NASADEM\n",
    "First, let's look at NASADEM, which uses data from NASA's Shuttle Radar Topography Mission from February 11, 2000, but also fills in data gaps with the ASTER GDEM product.\n",
    "Read more about this data set at https://lpdaac.usgs.gov/products/nasadem_hgtv001/. You can rind URLs to data via NASA's Earthdata search https://search.earthdata.nasa.gov:\n",
    "\n",
    "* https://e4ftl01.cr.usgs.gov//DP132/MEASURES/NASADEM_HGT.001/2000.02.11/NASADEM_HGT_n39w109.zip \n"
   ]
  },
  {
   "cell_type": "code",
   "execution_count": null,
   "id": "second-treat",
   "metadata": {},
   "outputs": [],
   "source": [
    "%%bash\n",
    "\n",
    "# Get data from LPDAAC and unzip\n",
    "DATADIR='/tmp/tutorial-data/geospatial/raster'\n",
    "mkdir -p ${DATADIR}\n",
    "wget -q -nc https://e4ftl01.cr.usgs.gov/DP132/MEASURES/NASADEM_HGT.001/2000.02.11/NASADEM_HGT_n39w109.zip \n",
    "unzip -n NASADEM_HGT_n39w109.zip -d ${DATADIR}"
   ]
  },
  {
   "cell_type": "markdown",
   "id": "conceptual-venezuela",
   "metadata": {},
   "source": [
    "### Rasterio\n",
    "\n",
    "[rasterio](https://rasterio.readthedocs.io/en/latest/) is a foundational geospatial Python library to work with raster data. It is a Python library that builds on top of the [Geospatial Data Abstraction Library (GDAL)](https://gdal.org), a well-established and critical geospatial library that underpins most GIS software."
   ]
  },
  {
   "cell_type": "code",
   "execution_count": null,
   "id": "unable-munich",
   "metadata": {},
   "outputs": [],
   "source": [
    "# NOTE: This reads just the metadata into memory, not the whole file\n",
    "path = '/tmp/tutorial-data/geospatial/n39w109.hgt'\n",
    "with rasterio.open(path) as src:\n",
    "    print(src.profile)"
   ]
  },
  {
   "cell_type": "code",
   "execution_count": null,
   "id": "blond-columbus",
   "metadata": {},
   "outputs": [],
   "source": [
    "# We can read this raster data as a numpy array to perform calculations\n",
    "with rasterio.open(path) as src:\n",
    "    data = src.read(1) #read first band\n",
    "    print(type(data))\n",
    "    plt.imshow(data, cmap='gray')\n",
    "    plt.colorbar()\n",
    "    plt.title(f'{path} (m)')"
   ]
  },
  {
   "cell_type": "code",
   "execution_count": null,
   "id": "phantom-webmaster",
   "metadata": {},
   "outputs": [],
   "source": [
    "# Rasterio has a convenience function for plotting with geospatial coordinates\n",
    "import rasterio.plot\n",
    "with rasterio.open(path) as src:\n",
    "    rasterio.plot.show(src)"
   ]
  },
  {
   "cell_type": "code",
   "execution_count": null,
   "id": "collect-flower",
   "metadata": {},
   "outputs": [],
   "source": [
    "# rasterio knows about the 2D geospatial coordinates, so you can easily take a profile at a certain latitude\n",
    "import rasterio.plot\n",
    "\n",
    "latitude = 39.3\n",
    "longitude = -108.8\n",
    "\n",
    "with rasterio.open(path) as src:\n",
    "    row, col = src.index(longitude, latitude)\n",
    "    profile = data[row,:] # we already read in data earlier\n",
    "    plt.plot(profile)\n",
    "    plt.xlabel('column')\n",
    "    plt.ylabel('elevation (m)')\n",
    "    plt.title(path)"
   ]
  },
  {
   "cell_type": "markdown",
   "id": "cross-helen",
   "metadata": {},
   "source": [
    "### Rioxarray\n",
    "\n",
    "As the volume of digital data grows, it is increasingly common to work with n-dimensional data or \"datacubes\". The most basic example of a data cube is a stack of co-located images over time. Another example is multiband imagery where each band is acquired simultaneously. You can find a nice walk-through of concepts in this documentation from the [OpenEO project](https://openeo.org/documentation/1.0/datacubes.html). The Python library [Xarray](http://xarray.pydata.org/en/stable/) is designed to work efficiently with multidimensional datasets, and the extension [RioXarray](https://corteva.github.io/rioxarray/stable/) adds geospatial functionality such as reading and writing GDAL-supported data formats, CRS management, reprojection, etc. \n",
    "\n",
    "Rioxarray depends on rasterio for functionality (which in turn depends on GDAL), so you can see that it's software libraries all the way down!"
   ]
  },
  {
   "cell_type": "code",
   "execution_count": null,
   "id": "alive-qatar",
   "metadata": {},
   "outputs": [],
   "source": [
    "da = rioxarray.open_rasterio(path, masked=True)\n",
    "da"
   ]
  },
  {
   "cell_type": "markdown",
   "id": "split-bryan",
   "metadata": {},
   "source": [
    "```{note}\n",
    "We have an `xarray DataArray`, which is convenient for datasets of one variable (in this case, elevation). The `xarray Dataset` is a related data intended for multiple data variables (elevation, precipitation, snow depth etc.),  Read more about xarray datastructures in the [documentation](http://xarray.pydata.org/en/stable/user-guide/data-structures.html). \n",
    "```"
   ]
  },
  {
   "cell_type": "code",
   "execution_count": null,
   "id": "theoretical-crawford",
   "metadata": {},
   "outputs": [],
   "source": [
    "# Drop the 'band' dimension since we don't have multiband data\n",
    "da = da.squeeze('band', drop=True)\n",
    "da.name = 'nasadem'\n",
    "da"
   ]
  },
  {
   "cell_type": "code",
   "execution_count": null,
   "id": "guided-perry",
   "metadata": {},
   "outputs": [],
   "source": [
    "# the rioxarray 'rio' accessor gives us access to geospatial information and other methods\n",
    "print(da.rio.crs)\n",
    "print(da.rio.encoded_nodata)"
   ]
  },
  {
   "cell_type": "code",
   "execution_count": null,
   "id": "japanese-longitude",
   "metadata": {},
   "outputs": [],
   "source": [
    "# xarray, like rasterio has built-in convenience plotting with matplotib\n",
    "# http://xarray.pydata.org/en/stable/user-guide/plotting.html\n",
    "da.plot();"
   ]
  },
  {
   "cell_type": "code",
   "execution_count": null,
   "id": "quality-struggle",
   "metadata": {},
   "outputs": [],
   "source": [
    "# xarray is also integrated into holoviz plotting tools\n",
    "# which are great for interactive data exploration in a browser\n",
    "import hvplot.xarray\n",
    "da.hvplot.image(x='x', y='y', rasterize=True, cmap='gray', \n",
    "                    aspect=1/np.cos(np.deg2rad(39)))"
   ]
  },
  {
   "cell_type": "code",
   "execution_count": null,
   "id": "worthy-third",
   "metadata": {},
   "outputs": [],
   "source": [
    "# Xarray uses pandas-style indexing to select data. This makes it very easy to plot a profile\n",
    "profile = da.sel(y=39.3, method='nearest')\n",
    "profile.hvplot.line(x='x')"
   ]
  },
  {
   "cell_type": "code",
   "execution_count": null,
   "id": "endless-invitation",
   "metadata": {},
   "outputs": [],
   "source": [
    "# Finally, reproject this data to a different CRS and save it\n",
    "# https://epsg.io/26912\n",
    "da_reproject = da.rio.reproject(\"EPSG:26912\")\n",
    "da_reproject"
   ]
  },
  {
   "cell_type": "code",
   "execution_count": null,
   "id": "theoretical-niagara",
   "metadata": {},
   "outputs": [],
   "source": [
    "da_reproject.hvplot.image(x='x', y='y', rasterize=True, cmap='gray', \n",
    "                aspect=1, # NOTE: we change this since we're in UTM now\n",
    "                )"
   ]
  },
  {
   "cell_type": "code",
   "execution_count": null,
   "id": "material-julian",
   "metadata": {},
   "outputs": [],
   "source": [
    "# We can easily save the entire raster or a subset\n",
    "da_reproject.rio.to_raster('n39w109_epsg26912.tif', driver='COG') #https://www.cogeo.org\n",
    "# Load the saved dataset back in\n",
    "#ds = xr.open_dataset('n39w109_epsg26912.tif', engine='rasterio')"
   ]
  },
  {
   "cell_type": "markdown",
   "id": "associate-sunset",
   "metadata": {},
   "source": [
    "## Comparing rasters\n",
    "\n",
    "### Copernicus DEM\n",
    "Second, let's get rasters from the European Space Agency Copernicus DEM, which is available as a public dataset on AWS: https://registry.opendata.aws/copernicus-dem/. This is a global digital elevation model derived from the TanDEM-X Synthetic Aperture Radar Mission, see [ESA's website for product details](https://spacedata.copernicus.eu/explore-more/news-archive/-/asset_publisher/Ye8egYeRPLEs/blog/id/434960)\n",
    "\n",
    "* s3://copernicus-dem-30m/Copernicus_DSM_COG_10_N39_00_W109_00_DEM/Copernicus_DSM_COG_10_N39_00_W109_00_DEM.tif"
   ]
  },
  {
   "cell_type": "code",
   "execution_count": null,
   "id": "blank-confidence",
   "metadata": {},
   "outputs": [],
   "source": [
    "# Can use AWS CLI to interact with this data\n",
    "!aws --no-sign-request s3 ls s3://copernicus-dem-30m/Copernicus_DSM_COG_10_N39_00_W109_00_DEM/Copernicus_DSM_COG_10_N39_00_W109_00_DEM.tif"
   ]
  },
  {
   "cell_type": "code",
   "execution_count": null,
   "id": "wicked-thanks",
   "metadata": {},
   "outputs": [],
   "source": [
    "# Rasterio has some capabilities to read URLs in addition to local file paths\n",
    "url = 's3://copernicus-dem-30m/Copernicus_DSM_COG_10_N39_00_W109_00_DEM/Copernicus_DSM_COG_10_N39_00_W109_00_DEM.tif'\n",
    "\n",
    "# need to use environment variables to change default GDAL settings when reading URLs\n",
    "Env = rasterio.Env(GDAL_DISABLE_READDIR_ON_OPEN='EMPTY_DIR',\n",
    "                   AWS_NO_SIGN_REQUEST='YES')\n",
    "\n",
    "# NOTE: this reads metadata only\n",
    "with Env:\n",
    "    with rasterio.open(url) as src:\n",
    "        print(src.profile)"
   ]
  },
  {
   "cell_type": "code",
   "execution_count": null,
   "id": "guilty-minutes",
   "metadata": {},
   "outputs": [],
   "source": [
    "# Because rioxarray uses rasterio & gdal it can also read urls\n",
    "with Env:\n",
    "    daC = rioxarray.open_rasterio(url).squeeze('band', drop=True)\n",
    "    daC.name = 'copernicus_dem'\n",
    "\n",
    "# NOTE: this data doesn't have NODATA set in metadata, so let's use the same value as SRTM\n",
    "daC.rio.write_nodata(-32768.0, encoded=True, inplace=True)\n",
    "daC"
   ]
  },
  {
   "cell_type": "code",
   "execution_count": null,
   "id": "framed-scratch",
   "metadata": {},
   "outputs": [],
   "source": [
    "daC.hvplot.image(x='x', y='y', rasterize=True, cmap='gray', \n",
    "                    aspect=1/np.cos(np.deg2rad(latitude)))"
   ]
  },
  {
   "cell_type": "code",
   "execution_count": null,
   "id": "hairy-adventure",
   "metadata": {},
   "outputs": [],
   "source": [
    "# Ensure the grid of one raster exactly matches another (same projection, resolution, and extents)\n",
    "# NOTE: these two raster happen to already be on an aligned grid\n",
    "daR = daC.rio.reproject_match(da)\n",
    "daR"
   ]
  },
  {
   "cell_type": "code",
   "execution_count": null,
   "id": "every-revolution",
   "metadata": {},
   "outputs": [],
   "source": [
    "difference = daR - da\n",
    "difference.name = 'cop30 - nasadem'\n",
    "plot = difference.hvplot.image(x='x', y='y', rasterize=True, cmap='bwr', clim=(-50,50),\n",
    "                               aspect=1/np.cos(np.deg2rad(latitude)))\n",
    "plot"
   ]
  },
  {
   "cell_type": "code",
   "execution_count": null,
   "id": "first-accordance",
   "metadata": {},
   "outputs": [],
   "source": [
    "import holoviews as hv\n",
    "mean = difference.mean().values\n",
    "print(mean)\n",
    "mean_hline = hv.VLine(mean)\n",
    "# Composite plot with holoviz (histogram with line overlay)\n",
    "difference.hvplot.hist(bins=100, xlim=(-50,50), color='gray') * mean_hline.opts(color='red')"
   ]
  },
  {
   "cell_type": "markdown",
   "id": "productive-geography",
   "metadata": {},
   "source": [
    "```{warning}\n",
    "\n",
    "NOTE that both the NASA DEM and Copernicus DEM report a CRS of `CRS.from_epsg(4326)`. This is the 2D horizontal coordinate reference. Elevation values also are with respect to a reference surface known as a datum, which is commonly an ellipsoid representation of the Earth, or a spatially varying \"geoid\" which is an equipotential surface. For high-precision geodetic applications it is common to use even more accurate time-varying [3D coordinate reference systems](https://proj.org/usage/transformation.html#).\n",
    "\n",
    "For NASADEM, according to the documentation page the datum is WGS84/EGM96, where 'EGM96' is the 'Earth Geoid Model from 1996'. But the Copernicus DEM uses EGM2008, a slightly updated model. Often, GNSS elevation datasets and SAR products are relative to elliposid heights (EPSG:4979), and if you do not convert between these systems you might end up with elevation discrepancies on the order of 100 meters!\n",
    "\n",
    "Datum shift grids can be used to vertically shift rasters and can be read about here https://proj.org/usage/network.html\n",
    "```"
   ]
  },
  {
   "cell_type": "code",
   "execution_count": null,
   "id": "congressional-oklahoma",
   "metadata": {},
   "outputs": [],
   "source": [
    "with Env:\n",
    "    daS = rioxarray.open_rasterio('https://cdn.proj.org/us_nga_egm96_15.tif').squeeze(dim='band', drop=True)\n",
    "    daS.name = 'us_nga_egm96_15'"
   ]
  },
  {
   "cell_type": "code",
   "execution_count": null,
   "id": "criminal-resort",
   "metadata": {},
   "outputs": [],
   "source": [
    "# World - WGS 84 (EPSG:4979) to EGM96 height (EPSG:5773). Size: 2.6 MB. Last modified: 2020-01-24\n",
    "from cartopy import crs\n",
    "\n",
    "daS.hvplot.image(x='x', y='y', rasterize=True,\n",
    "                geo=True, global_extent=True, coastline=True,\n",
    "                cmap='bwr', projection=crs.Mollweide(),\n",
    "                title='WGS 84 (EPSG:4979) to EGM96 height (EPSG:5773)')"
   ]
  },
  {
   "cell_type": "code",
   "execution_count": null,
   "id": "middle-stewart",
   "metadata": {},
   "outputs": [],
   "source": [
    "# What is the approximate grid shift at a specific location? \n",
    "daS.sel(x=longitude, y=latitude, method='nearest').values"
   ]
  },
  {
   "cell_type": "markdown",
   "id": "material-daughter",
   "metadata": {},
   "source": [
    "```{admonition} execercises\n",
    "- find longitude, latitude point of maximum EPSG:4979 -> EPSG:5773 datum shift magnitude\n",
    "- convert both elevation datasets to ellipsoid height (EPSG:4979) using data shift grids\n",
    "- save a small subset of a raster dataset\n",
    "```"
   ]
  }
 ],
 "metadata": {
  "kernelspec": {
   "display_name": "Python 3",
   "language": "python",
   "name": "python3"
  },
  "language_info": {
   "codemirror_mode": {
    "name": "ipython",
    "version": 3
   },
   "file_extension": ".py",
   "mimetype": "text/x-python",
   "name": "python",
   "nbconvert_exporter": "python",
   "pygments_lexer": "ipython3",
   "version": "3.8.8"
  }
 },
 "nbformat": 4,
 "nbformat_minor": 5
}
