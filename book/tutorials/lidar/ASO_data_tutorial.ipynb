{
 "cells": [
  {
   "cell_type": "markdown",
   "metadata": {},
   "source": [
    "# Lidar remote sensing of snow\n"
   ]
  },
  {
   "cell_type": "markdown",
   "metadata": {},
   "source": [
    "## Intro ASO\n",
    "\n",
    "See an overview of ASO operations [here](https://www.cbrfc.noaa.gov/report/AWRA2019_Pres3.pdf)\n",
    "\n",
    "ASO set-up: Riegl Q1560 dual laser scanning lidar 1064nm (image credit ASO)\n",
    "<!-- ![ASO_plane](figures/ASO_plane.png) -->\n",
    "<img src=\"figures/ASO_plane.png\" width=\"500\"/>\n"
   ]
  },
  {
   "cell_type": "markdown",
   "metadata": {},
   "source": [
    "\n",
    "\n",
    "ASO data collection (image credit ASO)\n",
    "\n",
    "\n",
    "<img src=\"figures/ASO_data.png\" width=\"500\"/>\n",
    "\n",
    "\n",
    "\n",
    "\n",
    "Laser reflections together create a 3D point cloud of the earth surface (image credit ASO)\n"
   ]
  },
  {
   "cell_type": "markdown",
   "metadata": {},
   "source": [
    "\n",
    "Point clouds can be classified and processed using specialised software such as [pdal](https://pdal.io/). \n",
    "\n",
    "We won't cover that here, because ASO has already processed all the snow depth datasets for us. \n",
    "\n",
    "ASO rasterises the point clouds to produce snow depth maps as rasters. Point clouds can also be rasterised to create canopy height models (CHMs) or digital terrain models (DTMs). These formats allow us to analyse the information easier. "
   ]
  },
  {
   "cell_type": "markdown",
   "metadata": {},
   "source": [
    "ASO states \"Snow depths in exposed areas are within 1-2 cm at the 50 m scale\"\n",
    "\n",
    "<img src=\"figures/ASO_accuracy.png\" width=\"300\"/>\n"
   ]
  },
  {
   "cell_type": "markdown",
   "metadata": {},
   "source": [
    "However, point-to-point variability can exist between manual and lidar measurements due to:\n",
    "- vegetation, particularly shrubs\n",
    "- geo-location accuracy of manual measurements\n",
    "- combination of both in forests"
   ]
  },
  {
   "cell_type": "markdown",
   "metadata": {},
   "source": [
    "## Basic data inspection"
   ]
  },
  {
   "cell_type": "markdown",
   "metadata": {},
   "source": [
    "### Import the packages needed for this tutorial"
   ]
  },
  {
   "cell_type": "code",
   "execution_count": null,
   "metadata": {},
   "outputs": [],
   "source": [
    "!pip install pycrs>=1 --no-deps"
   ]
  },
  {
   "cell_type": "code",
   "execution_count": null,
   "metadata": {},
   "outputs": [],
   "source": [
    "# general purpose data manipulation and analysis\n",
    "import numpy as np\n",
    "\n",
    "# packages for working with raster datasets\n",
    "import rasterio\n",
    "from rasterio.mask import mask\n",
    "from rasterio.plot import show\n",
    "from rasterio.enums import Resampling\n",
    "\n",
    "import xarray # allows us to work with raster data as arrays\n",
    "\n",
    "# packages for working with geospatial data\n",
    "import geopandas as gpd\n",
    "import pycrs\n",
    "\n",
    "from shapely.geometry import box\n",
    "\n",
    "# import packages for viewing the data\n",
    "import matplotlib.pyplot as pyplot\n"
   ]
  },
  {
   "cell_type": "code",
   "execution_count": null,
   "metadata": {},
   "outputs": [],
   "source": [
    "#define paths\n",
    "import os\n",
    "CURDIR = os.path.dirname(os.path.realpath(\"__file__\"))"
   ]
  },
  {
   "cell_type": "code",
   "execution_count": null,
   "metadata": {},
   "outputs": [],
   "source": [
    "# matplotlib functionality\n",
    "%matplotlib inline\n",
    "# %matplotlib notebook"
   ]
  },
  {
   "cell_type": "markdown",
   "metadata": {},
   "source": [
    "The command *%matplotlib notebook* allows you to plot data interactively, which makes things way more interesting. If you want, you can test to see if this works for you. If not, go back to *%matplotlib inline*"
   ]
  },
  {
   "cell_type": "markdown",
   "metadata": {},
   "source": [
    "## Data overview and visualisation"
   ]
  },
  {
   "cell_type": "code",
   "execution_count": null,
   "metadata": {},
   "outputs": [],
   "source": [
    "# open the raster\n",
    "fparts_SD_GM_3m = \"data/ASO_GrandMesa_2020Feb1-2_snowdepth_3m_clipped.tif\"\n",
    "\n",
    "SD_GM_3m = rasterio.open(fparts_SD_GM_3m)"
   ]
  },
  {
   "cell_type": "code",
   "execution_count": null,
   "metadata": {},
   "outputs": [],
   "source": [
    "# check the CRS - is it consistent with other datasets we want to use?\n",
    "SD_GM_3m.crs"
   ]
  },
  {
   "cell_type": "markdown",
   "metadata": {},
   "source": [
    "ASO datasets are in EPSG: 32612. However, you might find other SnowEx datasets are in EPGS:26912. This can be changed using reproject in rioxarray. See [here](https://corteva.github.io/rioxarray/stable/examples/reproject.html) for an example. \n",
    "For now, we'll stay in 32612."
   ]
  },
  {
   "cell_type": "markdown",
   "metadata": {},
   "source": [
    "With the above raster open, you can look at the different attributes of the raster. For example, the cellsize:"
   ]
  },
  {
   "cell_type": "code",
   "execution_count": null,
   "metadata": {},
   "outputs": [],
   "source": [
    "SD_GM_3m.res"
   ]
  },
  {
   "cell_type": "markdown",
   "metadata": {},
   "source": [
    "The raster boundaries..."
   ]
  },
  {
   "cell_type": "code",
   "execution_count": null,
   "metadata": {},
   "outputs": [],
   "source": [
    "SD_GM_3m.bounds"
   ]
  },
  {
   "cell_type": "markdown",
   "metadata": {},
   "source": [
    "And the dimensions. Note this is in pixels, not in meters. To get the total size, you can multiply the dimensions by the resolution. "
   ]
  },
  {
   "cell_type": "code",
   "execution_count": null,
   "metadata": {},
   "outputs": [],
   "source": [
    "print(SD_GM_3m.width,SD_GM_3m.height)"
   ]
  },
  {
   "cell_type": "markdown",
   "metadata": {},
   "source": [
    "rasterio.open allows you to quickly look at the data..."
   ]
  },
  {
   "cell_type": "code",
   "execution_count": null,
   "metadata": {},
   "outputs": [],
   "source": [
    "fig1, ax1 = pyplot.subplots(1, figsize=(5, 5))\n",
    "show((SD_GM_3m, 1), cmap='Blues', interpolation='none', ax=ax1)"
   ]
  },
  {
   "cell_type": "markdown",
   "metadata": {},
   "source": [
    "While this can allow us to very quickly visualise the data, it doesn't show us a lot about the data itself. \n",
    "\n",
    "We can also open the data from the geotiff as as a data array, giving us more flexibility in the data analysis. "
   ]
  },
  {
   "cell_type": "code",
   "execution_count": null,
   "metadata": {},
   "outputs": [],
   "source": [
    "# First, close the rasterio file\n",
    "SD_GM_3m.close()"
   ]
  },
  {
   "cell_type": "markdown",
   "metadata": {},
   "source": [
    "Now we can re-open the data as an array and visualise it using pyplot."
   ]
  },
  {
   "cell_type": "code",
   "execution_count": null,
   "metadata": {},
   "outputs": [],
   "source": [
    "dat_array_3m = xarray.open_rasterio(fparts_SD_GM_3m)\n",
    "\n",
    "# plot the raster \n",
    "\n",
    "fig2, ax2 = pyplot.subplots()\n",
    "pos2 = ax2.imshow(dat_array_3m.data[0,:,:], cmap='Blues', vmin=0, vmax=1.5);\n",
    "ax2.set_title('GM Snow Depth 3m')\n",
    "fig2.colorbar(pos2, ax=ax2)"
   ]
  },
  {
   "cell_type": "markdown",
   "metadata": {},
   "source": [
    "We set the figure to display the colorbar with a maximum of 1.5m. But you can see in the north of the area there are some very deep snow depths. "
   ]
  },
  {
   "cell_type": "code",
   "execution_count": null,
   "metadata": {},
   "outputs": [],
   "source": [
    "np.nanmax(dat_array_3m)"
   ]
  },
  {
   "cell_type": "markdown",
   "metadata": {},
   "source": [
    "Optional - use the interactive plot to pan and zoom in and out to have a look at the snow depth distribution across the Grand Mesa. This should work for you if you run your notebook locally. "
   ]
  },
  {
   "cell_type": "markdown",
   "metadata": {},
   "source": [
    "We can clip the larger domain to a smaller areas to better visualise the snow depth distributions in the areas we're interested in. \n",
    "\n",
    "Depending on the field site, you could look at distributions in different slope classes, vegetation classes (bush vs forest vs open) or aspect classes. \n",
    "\n",
    "For now, we'll focus on a forest-dominated area and use the canopy height model (CHM) to clip the snow depth data."
   ]
  },
  {
   "cell_type": "markdown",
   "metadata": {},
   "source": [
    "## Canopy height models\n",
    "\n",
    "We will use an existing raster of a canopy height model (CHM) to clip our snow depth map. This CHM is an area investigated by [Mazzotti et al. 2019](https://agupubs.onlinelibrary.wiley.com/doi/full/10.1029/2019WR024898). You can also access the data [here](https://www.envidat.ch/#/metadata/als-based-snow-depth)."
   ]
  },
  {
   "cell_type": "code",
   "execution_count": null,
   "metadata": {},
   "outputs": [],
   "source": [
    "# load the chm\n",
    "chm = xarray.open_rasterio('data/CHM_20160926GMb_700x700_EPSG32612.tif')"
   ]
  },
  {
   "cell_type": "code",
   "execution_count": null,
   "metadata": {},
   "outputs": [],
   "source": [
    "# check the crs is the same as the snow depth data\n",
    "chm.crs"
   ]
  },
  {
   "cell_type": "markdown",
   "metadata": {},
   "source": [
    "Don't forget that if the coordinate systems in your datasets don't match then you will need to transform one of them. You can change the coordinate systems using the links above. (Note, I've already transformed this dataset from EPSG 32613)."
   ]
  },
  {
   "cell_type": "markdown",
   "metadata": {},
   "source": [
    "Let's have a quick look at the chm data as an xarray."
   ]
  },
  {
   "cell_type": "code",
   "execution_count": null,
   "metadata": {},
   "outputs": [],
   "source": [
    "chm"
   ]
  },
  {
   "cell_type": "markdown",
   "metadata": {},
   "source": [
    "You can see the resolution of the CHM is 0.5m, which is much higher than the snow depth dataset. \n",
    "\n",
    "Can you think why we would want to have CHM at such a high resolution?"
   ]
  },
  {
   "cell_type": "markdown",
   "metadata": {},
   "source": [
    "There are two main reasons:\n",
    "- resolution high enough to represent individual trees\n",
    "- maximum canopy height can mis-represented in lower resolution CHMs"
   ]
  },
  {
   "cell_type": "markdown",
   "metadata": {},
   "source": [
    "We can extract simple statistics from the dataset the same way you would with a numpy dataset. For example:"
   ]
  },
  {
   "cell_type": "code",
   "execution_count": null,
   "metadata": {
    "scrolled": true
   },
   "outputs": [],
   "source": [
    "chm.data.max()"
   ]
  },
  {
   "cell_type": "code",
   "execution_count": null,
   "metadata": {},
   "outputs": [],
   "source": [
    "# plot the CHM, setting the maximum color value to the maximum canopy height in the dataset\n",
    "fig3, ax3 = pyplot.subplots()\n",
    "pos3 = ax3.imshow(chm.data[0,:,:], cmap='viridis', vmin=0, vmax=chm.data.max())\n",
    "ax3.set_title('CHM Grand Mesa B')\n",
    "fig3.colorbar(pos3, ax=ax3)"
   ]
  },
  {
   "cell_type": "markdown",
   "metadata": {},
   "source": [
    "If you play around and zoom in, you can see individual trees. If you were wanting to investigate the role of canopy structure at the individual tree level on snow depth distribution, this is the level of detail you would want to work with. "
   ]
  },
  {
   "cell_type": "markdown",
   "metadata": {},
   "source": [
    "## Clipping rasters"
   ]
  },
  {
   "cell_type": "markdown",
   "metadata": {},
   "source": [
    "Let's clip the snow depth dataset to the same boundaries as the CHM."
   ]
  },
  {
   "cell_type": "markdown",
   "metadata": {},
   "source": [
    "One way to clip the snow depth raster is to use another raster as an area of interest. \n",
    "\n",
    "We will use the CHM as a mask, following [this](https://automating-gis-processes.github.io/CSC18/lessons/L6/clipping-raster.html) tutorial. \n",
    "\n",
    "You can also use shapefiles (see [here](https://rasterio.readthedocs.io/en/latest/topics/masking-by-shapefile.html) for another example) if you want to use more complicated geometry, or you can manually define your coordinates.\n",
    "\n",
    "We can extract the boundaries of the CHM and create a bounding box using the Shapely package"
   ]
  },
  {
   "cell_type": "code",
   "execution_count": null,
   "metadata": {},
   "outputs": [],
   "source": [
    "bbox = box(chm.x.min(),chm.y.min(),chm.x.max(),chm.y.max())"
   ]
  },
  {
   "cell_type": "code",
   "execution_count": null,
   "metadata": {},
   "outputs": [],
   "source": [
    "print(bbox)"
   ]
  },
  {
   "cell_type": "markdown",
   "metadata": {},
   "source": [
    "If you want to come back and do this later, you don't need a raster or shapefile. If you only know the min/max coordinates of the area you're interested in, that's fine too."
   ]
  },
  {
   "cell_type": "code",
   "execution_count": null,
   "metadata": {},
   "outputs": [],
   "source": [
    "# bbox = box(minx,miny,maxx,maxy)"
   ]
  },
  {
   "cell_type": "markdown",
   "metadata": {},
   "source": [
    "You could also add a buffer around your CHM, if you wanted to see a bigger area:"
   ]
  },
  {
   "cell_type": "code",
   "execution_count": null,
   "metadata": {},
   "outputs": [],
   "source": [
    "#buffer = 200\n",
    "#bbox = box(cb[0]-buffer,cb[1]-buffer,cb[2]+buffer,cb[3]+buffer)"
   ]
  },
  {
   "cell_type": "markdown",
   "metadata": {},
   "source": [
    "But for now let's just stay with the same limits as the CHM.\n",
    "We need to put the bounding box into a geodataframe"
   ]
  },
  {
   "cell_type": "code",
   "execution_count": null,
   "metadata": {},
   "outputs": [],
   "source": [
    "geo = gpd.GeoDataFrame({'geometry': bbox}, index=[0], crs=chm.crs)"
   ]
  },
  {
   "cell_type": "markdown",
   "metadata": {},
   "source": [
    "And then extract the coordinates to a format that we can use with rasterio."
   ]
  },
  {
   "cell_type": "code",
   "execution_count": null,
   "metadata": {},
   "outputs": [],
   "source": [
    "def getFeatures(gdf):\n",
    "    \"\"\"Function to parse features from GeoDataFrame in such a manner that rasterio wants them\"\"\"\n",
    "    import json\n",
    "    return [json.loads(gdf.to_json())['features'][0]['geometry']]"
   ]
  },
  {
   "cell_type": "code",
   "execution_count": null,
   "metadata": {},
   "outputs": [],
   "source": [
    "coords = getFeatures(geo)\n",
    "print(coords)"
   ]
  },
  {
   "cell_type": "markdown",
   "metadata": {},
   "source": [
    "After all that, we're ready to clip the raster. We do this using the mask function from rasterio, and specifying crop=TRUE\n",
    "\n",
    "We also need to re-open the dataset as a rasterio object. "
   ]
  },
  {
   "cell_type": "code",
   "execution_count": null,
   "metadata": {},
   "outputs": [],
   "source": [
    "SD_GM_3m.close()\n",
    "SD_GM_3m = rasterio.open(fparts_SD_GM_3m)"
   ]
  },
  {
   "cell_type": "code",
   "execution_count": null,
   "metadata": {},
   "outputs": [],
   "source": [
    "out_img, out_transform = mask(SD_GM_3m, coords, crop=True)"
   ]
  },
  {
   "cell_type": "markdown",
   "metadata": {},
   "source": [
    "We also need to copy the meta information across to the new raster"
   ]
  },
  {
   "cell_type": "code",
   "execution_count": null,
   "metadata": {},
   "outputs": [],
   "source": [
    "out_meta = SD_GM_3m.meta.copy()\n",
    "epsg_code = int(SD_GM_3m.crs.data['init'][5:])"
   ]
  },
  {
   "cell_type": "markdown",
   "metadata": {},
   "source": [
    "And update the metadata with the new dimsions etc."
   ]
  },
  {
   "cell_type": "code",
   "execution_count": null,
   "metadata": {},
   "outputs": [],
   "source": [
    "out_meta.update({\"driver\": \"GTiff\",\n",
    "   ....:                  \"height\": out_img.shape[1],\n",
    "   ....:                  \"width\": out_img.shape[2],\n",
    "   ....:                  \"transform\": out_transform,\n",
    "   ....:                  \"crs\": pycrs.parse.from_epsg_code(epsg_code).to_proj4()}\n",
    "   ....:                          )\n",
    "   ....: "
   ]
  },
  {
   "cell_type": "markdown",
   "metadata": {},
   "source": [
    "Next, we should save this new raster. Let's call the area 'GMb', to match the name of the CHM. "
   ]
  },
  {
   "cell_type": "code",
   "execution_count": null,
   "metadata": {},
   "outputs": [],
   "source": [
    "out_tif = \"data/ASO_GrandMesa_2020Feb1-2_snowdepth_3m_clip_GMb.tif\"\n",
    "\n",
    "with rasterio.open(out_tif, \"w\", **out_meta) as dest:\n",
    "    dest.write(out_img)"
   ]
  },
  {
   "cell_type": "markdown",
   "metadata": {},
   "source": [
    "To check the result is correct, we can read the data back in. "
   ]
  },
  {
   "cell_type": "code",
   "execution_count": null,
   "metadata": {},
   "outputs": [],
   "source": [
    "SD_GMb_3m = xarray.open_rasterio(out_tif)"
   ]
  },
  {
   "cell_type": "code",
   "execution_count": null,
   "metadata": {},
   "outputs": [],
   "source": [
    "# plot the new SD map \n",
    "fig4, ax4 = pyplot.subplots()\n",
    "pos4 = ax4.imshow(SD_GMb_3m.data[0,:,:], cmap='Blues', vmin=0, vmax=1.5)\n",
    "ax4.set_title('GMb Snow Depth 3m')\n",
    "fig4.colorbar(pos4, ax=ax4)"
   ]
  },
  {
   "cell_type": "markdown",
   "metadata": {},
   "source": [
    "Here's an aerial image of the same area. What patterns do you see in the snow depth map when compared to the aerial image?\n",
    "\n",
    "<img src=\"figures/GMb_Aerial.png\" width=\"300\"/>\n",
    "\n",
    "(Image from Google Earth)\n",
    "\n",
    "If you plotted snow depth compared to canopy height, what do you think you'd see in the graph?"
   ]
  },
  {
   "cell_type": "markdown",
   "metadata": {},
   "source": [
    "## Raster resolution"
   ]
  },
  {
   "cell_type": "markdown",
   "metadata": {},
   "source": [
    "ASO also creates a 50m SD data product. So, let's have a look at that in the same area."
   ]
  },
  {
   "cell_type": "code",
   "execution_count": null,
   "metadata": {},
   "outputs": [],
   "source": [
    "SD_GM_50m = rasterio.open(\"data/ASO_GrandMesa_Mosaic_2020Feb1-2_snowdepth_50m.tif\")"
   ]
  },
  {
   "cell_type": "code",
   "execution_count": null,
   "metadata": {},
   "outputs": [],
   "source": [
    "out_img_50, out_transform_50 = mask(SD_GM_50m, coords, crop=True)\n",
    "out_meta_50 = SD_GM_50m.meta.copy()\n",
    "epsg_code_50 = int(SD_GM_50m.crs.data['init'][5:])"
   ]
  },
  {
   "cell_type": "code",
   "execution_count": null,
   "metadata": {},
   "outputs": [],
   "source": [
    "out_meta_50.update({\"driver\": \"GTiff\",\n",
    "   ....:                  \"height\": out_img_50.shape[1],\n",
    "   ....:                  \"width\": out_img_50.shape[2],\n",
    "   ....:                  \"transform\": out_transform_50,\n",
    "   ....:                  \"crs\": pycrs.parse.from_epsg_code(epsg_code).to_proj4()}\n",
    "   ....:                          )\n",
    "   ....: "
   ]
  },
  {
   "cell_type": "code",
   "execution_count": null,
   "metadata": {},
   "outputs": [],
   "source": [
    "out_tif_50 = \"data/ASO_GrandMesa_Mosaic_2020Feb1-2_snowdepth_50m_clip_GMb.tif\"\n",
    "\n",
    "with rasterio.open(out_tif_50, \"w\", **out_meta_50) as dest:\n",
    "    dest.write(out_img_50)"
   ]
  },
  {
   "cell_type": "code",
   "execution_count": null,
   "metadata": {},
   "outputs": [],
   "source": [
    "SD_GM_50m.close()"
   ]
  },
  {
   "cell_type": "code",
   "execution_count": null,
   "metadata": {},
   "outputs": [],
   "source": [
    "SD_GMb_50m = xarray.open_rasterio(out_tif_50)"
   ]
  },
  {
   "cell_type": "markdown",
   "metadata": {},
   "source": [
    "Now we have the two rasters clipped to the same area, we can compare them. "
   ]
  },
  {
   "cell_type": "code",
   "execution_count": null,
   "metadata": {},
   "outputs": [],
   "source": [
    "### plot them side by side with a minimum and maximum values of 0m and 1.5m\n",
    "fig5, ax5 = pyplot.subplots()\n",
    "pos5 = ax5.imshow(SD_GMb_3m.data[0,:,:], cmap='Blues', vmin=0, vmax=1.5)\n",
    "ax5.set_title('GMb Snow Depth 3m')\n",
    "fig5.colorbar(pos5, ax=ax5)\n",
    "\n",
    "fig6, ax6 = pyplot.subplots()\n",
    "pos6 = ax6.imshow(SD_GMb_50m.data[0,:,:], cmap='Blues', vmin=0, vmax=1.5)\n",
    "ax6.set_title('GM Snow Depth 50m')\n",
    "fig6.colorbar(pos6, ax=ax6)\n"
   ]
  },
  {
   "cell_type": "markdown",
   "metadata": {},
   "source": [
    "Let's have a look at the two resolutions next to each other. What do you notice?"
   ]
  },
  {
   "cell_type": "markdown",
   "metadata": {},
   "source": [
    "We can look at the data in more detail. For example, histograms show us the snow depth distribution across the area. "
   ]
  },
  {
   "cell_type": "code",
   "execution_count": null,
   "metadata": {},
   "outputs": [],
   "source": [
    "# plot histograms of the snow depth distributions across a range from 0 to 1.5m in 25cm increments\n",
    "fig7, ax7 = pyplot.subplots(figsize=(5, 5))\n",
    "pyplot.hist(SD_GMb_3m.data.flatten(),bins=np.arange(0, 1.5 + 0.025, 0.025));\n",
    "ax7.set_title('GM Snow Depth 3m')\n",
    "ax7.set_xlim((0,1.5))\n",
    "\n",
    "fig8, ax8 = pyplot.subplots(figsize=(5, 5))\n",
    "pyplot.hist(SD_GMb_50m.data.flatten(),bins=np.arange(0, 1.5 + 0.025, 0.025));\n",
    "ax8.set_title('GM Snow Depth 50m')\n",
    "ax8.set_xlim((0,1.5))"
   ]
  },
  {
   "cell_type": "markdown",
   "metadata": {},
   "source": [
    "Things to think about:\n",
    "- What are the maximum and minimum snow depths between the two datasets?\n",
    "- Does the distribution in snow depths across the area change with resolution?\n",
    "- How representative are the different datasets for snow depth at different process scales? Can you see the forest in the 50m data?\n",
    "- There are snow free areas in the 3m data, but not in the 50m. What do you think this means for validating modelled snow depletion?"
   ]
  },
  {
   "cell_type": "code",
   "execution_count": null,
   "metadata": {},
   "outputs": [],
   "source": [
    "SD_GMb_3m.close()\n",
    "SD_GMb_50m.close()\n",
    "chm.close()"
   ]
  },
  {
   "cell_type": "markdown",
   "metadata": {},
   "source": [
    "## Resampling"
   ]
  },
  {
   "cell_type": "markdown",
   "metadata": {},
   "source": [
    "If you are looking to compare your modelled snow depth, you can resample your lidar snow depth to the same resolution as your model. "
   ]
  },
  {
   "cell_type": "markdown",
   "metadata": {},
   "source": [
    "You can see the code [here](https://rasterio.readthedocs.io/en/latest/topics/resampling.html)\n",
    "\n",
    "Let's say we want to sample the whole domain at 250 m resolution. "
   ]
  },
  {
   "cell_type": "code",
   "execution_count": null,
   "metadata": {},
   "outputs": [],
   "source": [
    "# Resample your raster\n",
    "\n",
    "# select your upscale_factor - this is related to the resolution of your raster\n",
    "# upscale_factor = old_resolution/desired_resolution\n",
    "upscale_factor = 50/250\n",
    "\n",
    "SD_GMb_50m_rio = rasterio.open(\"data/ASO_GrandMesa_Mosaic_2020Feb1-2_snowdepth_50m_clip_GMb.tif\")\n",
    "\n",
    "# resample data to target shape using the bilinear method\n",
    "new_res = SD_GMb_50m_rio.read(\n",
    "    out_shape=(\n",
    "        SD_GMb_50m_rio.count,\n",
    "        int(SD_GMb_50m_rio.height * upscale_factor),\n",
    "        int(SD_GMb_50m_rio.width * upscale_factor)\n",
    "    ),\n",
    "    resampling=Resampling.bilinear\n",
    ")\n",
    "\n",
    "# scale image transform\n",
    "transform = SD_GMb_50m_rio.transform * SD_GMb_50m_rio.transform.scale(\n",
    "    (SD_GMb_50m_rio.width / new_res.shape[-1]),\n",
    "    (SD_GMb_50m_rio.height / new_res.shape[-2])\n",
    ")\n",
    "\n",
    "# display the raster\n",
    "fig9, ax9 = pyplot.subplots()\n",
    "pos9 = ax9.imshow(new_res[0,:,:], cmap='Blues', vmin=0, vmax=1.5)\n",
    "ax9.set_title('GM Snow Depth 50m')\n",
    "fig9.colorbar(pos9, ax=ax9)"
   ]
  },
  {
   "cell_type": "markdown",
   "metadata": {},
   "source": [
    "Play around with different upscaling factors and see what sort of results you get. How do the maximum and minimum values across the area change?"
   ]
  },
  {
   "cell_type": "markdown",
   "metadata": {},
   "source": [
    "Other possibilities: \n",
    "- Load the 3 m  dataset and resample from the higher resolution. \n",
    "- You can clip to larger areas, such as a model domain, to resample to larger pixel sizes.\n",
    "- Load another dataset and see if you see the same patterns. "
   ]
  },
  {
   "cell_type": "code",
   "execution_count": null,
   "metadata": {},
   "outputs": [],
   "source": [
    "SD_GMb_50m_rio.close()"
   ]
  },
  {
   "cell_type": "markdown",
   "metadata": {},
   "source": [
    "# Other things to think about\n",
    "\n",
    "This tutorial was just to get you started thinking about lidar datasets. ASO also collected data for SnowEx on Grand Mesa in 2017. They've also collected data in numerous other locations across the years that you also have access you. \n",
    "\n",
    "The geospatial tutorial showed you how to extract values from rasters to points. Using these methods, you could extract the ASO values to the manual snow depth measurements to assess the performance of the lidar snow depth data product. "
   ]
  },
  {
   "cell_type": "markdown",
   "metadata": {},
   "source": [
    "## Additional datasets\n",
    "\n",
    "ASO have collected many datasets, in numerous locations. \n",
    "\n",
    "If you're interested in the 2020 season here are some .zip files to access ASO 2020 data for other sites/campaigns\n",
    "In these folders are snow depth and SWE data products. These links are to directly download .zip folders. \n",
    "\n",
    "[Grand Mesa Feb 1-2](https://asopublic.s3-us-west-1.amazonaws.com/USCO/GM/2020/0201/ASO_GrandMesa_mosaic_2020Feb1-2_AllData_and_Reports.zip)\n",
    "\n",
    "[Grand Mesa Feb 13](https://asopublic.s3-us-west-1.amazonaws.com/USCO/GM/2020/0213/ASO_GrandMesa_mosaic_2020Feb13_AllData_and_Reports.zip)\n",
    "\n",
    "[East River Feb 14-20](https://asopublic.s3-us-west-1.amazonaws.com/USCO/GE/2020/0214/ASO_EastRiver_mosaic_2020Feb14-20_AllData_and_Reports.zip)\n",
    "\n",
    "[Taylor River Feb 20](https://asopublic.s3-us-west-1.amazonaws.com/USCO/GT/2020/0220/ASO_TaylorRiver_mosaic_2020Feb20_AllData_and_Reports.zip)\n",
    "\n",
    "[Reynolds Creek Feb 18-19](https://asopublic.s3-us-west-1.amazonaws.com/USID/RY/2020/0218/ASO_Reynolds_mosaic_2020Feb18-19_AllData_and_Reports.zip)\n",
    "\n",
    "So far, there are no snow-off campaigns from the 2020 season due to covid. \n",
    "\n",
    "But you can find ASO bare earth DTMs and other ASO data, including 3 m and 50 m snow depth, SWE across other sites and years [here](https://nsidc.org/data/aso/data-summaries)\n"
   ]
  },
  {
   "cell_type": "code",
   "execution_count": null,
   "metadata": {},
   "outputs": [],
   "source": []
  }
 ],
 "metadata": {
  "kernelspec": {
   "display_name": "Python 3",
   "language": "python",
   "name": "python3"
  },
  "language_info": {
   "codemirror_mode": {
    "name": "ipython",
    "version": 3
   },
   "file_extension": ".py",
   "mimetype": "text/x-python",
   "name": "python",
   "nbconvert_exporter": "python",
   "pygments_lexer": "ipython3",
   "version": "3.8.8"
  }
 },
 "nbformat": 4,
 "nbformat_minor": 4
}
